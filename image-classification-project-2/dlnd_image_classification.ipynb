{
 "cells": [
  {
   "cell_type": "markdown",
   "metadata": {
    "collapsed": true,
    "deletable": true,
    "editable": true
   },
   "source": [
    "# Image Classification\n",
    "In this project we classify images from the [CIFAR-10 dataset](https://www.cs.toronto.edu/~kriz/cifar.html).  The dataset consists of airplanes, dogs, cats, and other objects.\n",
    "\n",
    "## Get the Data\n",
    "Run the following cell to download the [CIFAR-10 dataset for python](https://www.cs.toronto.edu/~kriz/cifar-10-python.tar.gz)."
   ]
  },
  {
   "cell_type": "code",
   "execution_count": 1,
   "metadata": {
    "collapsed": false,
    "deletable": true,
    "editable": true
   },
   "outputs": [
    {
     "name": "stdout",
     "output_type": "stream",
     "text": [
      "All files found!\n"
     ]
    }
   ],
   "source": [
    "from urllib.request import urlretrieve\n",
    "from os.path import isfile, isdir\n",
    "from tqdm import tqdm\n",
    "import problem_unittests as tests\n",
    "import tarfile\n",
    "\n",
    "cifar10_dataset_folder_path = 'cifar-10-batches-py'\n",
    "\n",
    "class DLProgress(tqdm):\n",
    "    last_block = 0\n",
    "\n",
    "    def hook(self, block_num=1, block_size=1, total_size=None):\n",
    "        self.total = total_size\n",
    "        self.update((block_num - self.last_block) * block_size)\n",
    "        self.last_block = block_num\n",
    "\n",
    "if not isfile('cifar-10-python.tar.gz'):\n",
    "    with DLProgress(unit='B', unit_scale=True, miniters=1, desc='CIFAR-10 Dataset') as pbar:\n",
    "        urlretrieve(\n",
    "            'https://www.cs.toronto.edu/~kriz/cifar-10-python.tar.gz',\n",
    "            'cifar-10-python.tar.gz',\n",
    "            pbar.hook)\n",
    "\n",
    "if not isdir(cifar10_dataset_folder_path):\n",
    "    with tarfile.open('cifar-10-python.tar.gz') as tar:\n",
    "        tar.extractall()\n",
    "        tar.close()\n",
    "\n",
    "\n",
    "tests.test_folder_path(cifar10_dataset_folder_path)"
   ]
  },
  {
   "cell_type": "markdown",
   "metadata": {
    "deletable": true,
    "editable": true
   },
   "source": [
    "## Explore the Data\n",
    "The dataset is broken into batches to prevent your machine from running out of memory.  The CIFAR-10 dataset consists of 5 batches, named `data_batch_1`, `data_batch_2`, etc.. Each batch contains the labels and images that are one of the following:\n",
    "* airplane\n",
    "* automobile\n",
    "* bird\n",
    "* cat\n",
    "* deer\n",
    "* dog\n",
    "* frog\n",
    "* horse\n",
    "* ship\n",
    "* truck\n",
    "\n",
    "Understanding a dataset is part of making predictions on the data.  Play around with the code cell below by changing the `batch_id` and `sample_id`. The `batch_id` is the id for a batch (1-5). The `sample_id` is the id for a image and label pair in the batch.\n",
    "\n",
    "Ask yourself \"What are all possible labels?\", \"What is the range of values for the image data?\", \"Are the labels in order or random?\".  Answers to questions like these will help you preprocess the data and end up with better predictions."
   ]
  },
  {
   "cell_type": "code",
   "execution_count": 2,
   "metadata": {
    "collapsed": false,
    "deletable": true,
    "editable": true
   },
   "outputs": [
    {
     "name": "stdout",
     "output_type": "stream",
     "text": [
      "\n",
      "Stats of batch 5:\n",
      "Samples: 10000\n",
      "Label Counts: {0: 1014, 1: 1014, 2: 952, 3: 1016, 4: 997, 5: 1025, 6: 980, 7: 977, 8: 1003, 9: 1022}\n",
      "First 20 Labels: [1, 8, 5, 1, 5, 7, 4, 3, 8, 2, 7, 2, 0, 1, 5, 9, 6, 2, 0, 8]\n",
      "\n",
      "Example of Image 55:\n",
      "Image - Min Value: 17 Max Value: 255\n",
      "Image - Shape: (32, 32, 3)\n",
      "Label - Label Id: 7 Name: horse\n"
     ]
    },
    {
     "data": {
      "image/png": "[encoded data removed]",
      "text/plain": [
       "<matplotlib.figure.Figure at 0x25bf5d6e908>"
      ]
     },
     "metadata": {
      "image/png": {
       "height": 250,
       "width": 253
      }
     },
     "output_type": "display_data"
    }
   ],
   "source": [
    "%matplotlib inline\n",
    "%config InlineBackend.figure_format = 'retina'\n",
    "\n",
    "import helper\n",
    "import numpy as np\n",
    "\n",
    "# Explore the dataset\n",
    "batch_id = 5\n",
    "sample_id = 55\n",
    "helper.display_stats(cifar10_dataset_folder_path, batch_id, sample_id)"
   ]
  },
  {
   "cell_type": "markdown",
   "metadata": {
    "deletable": true,
    "editable": true
   },
   "source": [
    "## Implement Preprocess Functions\n",
    "### Normalize"
   ]
  },
  {
   "cell_type": "code",
   "execution_count": 3,
   "metadata": {
    "collapsed": false,
    "deletable": true,
    "editable": true
   },
   "outputs": [
    {
     "name": "stdout",
     "output_type": "stream",
     "text": [
      "Tests Passed\n"
     ]
    }
   ],
   "source": [
    "def normalize(x):\n",
    "    \"\"\"\n",
    "    Normalize a list of sample image data in the range of 0 to 1\n",
    "    : x: List of image data.  The image shape is (32, 32, 3)\n",
    "    : return: Numpy array of normalize data\n",
    "    As there are 255 colours, we will divide the colours by 255 to get\n",
    "    it to be within the range of 0 to 1. \n",
    "    for example 185 / 255 is .619\n",
    "    We do this to make the data easier to work with\n",
    "    \"\"\"\n",
    "    normal = x / 255.\n",
    "    \n",
    "    return normal\n",
    "\n",
    "\n",
    "tests.test_normalize(normalize)"
   ]
  },
  {
   "cell_type": "markdown",
   "metadata": {
    "deletable": true,
    "editable": true
   },
   "source": [
    "### One-hot encode"
   ]
  },
  {
   "cell_type": "code",
   "execution_count": 4,
   "metadata": {
    "collapsed": false,
    "deletable": true,
    "editable": true
   },
   "outputs": [
    {
     "name": "stdout",
     "output_type": "stream",
     "text": [
      "[0, 1, 2, 3, 4, 5, 6, 7, 8, 9]\n",
      "[0, 1, 2, 3, 4, 5, 6, 7, 8, 9]\n",
      "Tests Passed\n"
     ]
    }
   ],
   "source": [
    "import tensorflow as tf\n",
    "from sklearn import preprocessing\n",
    "\n",
    "def one_hot_encode(x):\n",
    "    \"\"\"\n",
    "    One hot encode a list of sample labels. Return a one-hot encoded vector for each label.\n",
    "    : x: List of sample Labels\n",
    "    : return: Numpy array of one-hot encoded labels    \n",
    "    \n",
    "    array with lots of 0s except a 1 where there is the thing we want\n",
    "    \"\"\"\n",
    "    \n",
    "    lb = preprocessing.LabelBinarizer()\n",
    "    lb.fit(x)\n",
    "    lb.classes_ = [0, 1, 2, 3, 4, 5, 6, 7, 8, 9]\n",
    "    \n",
    "    print(lb.classes_)\n",
    "    return lb.transform(x)\n",
    "\n",
    "\n",
    "tests.test_one_hot_encode(one_hot_encode)"
   ]
  },
  {
   "cell_type": "markdown",
   "metadata": {
    "deletable": true,
    "editable": true
   },
   "source": [
    "## Preprocess all the data and save it\n",
    "Running the code cell below will preprocess all the CIFAR-10 data and save it to file. The code below also uses 10% of the training data for validation."
   ]
  },
  {
   "cell_type": "code",
   "execution_count": 5,
   "metadata": {
    "collapsed": false,
    "deletable": true,
    "editable": true
   },
   "outputs": [
    {
     "name": "stdout",
     "output_type": "stream",
     "text": [
      "[0, 1, 2, 3, 4, 5, 6, 7, 8, 9]\n",
      "[0, 1, 2, 3, 4, 5, 6, 7, 8, 9]\n",
      "[0, 1, 2, 3, 4, 5, 6, 7, 8, 9]\n",
      "[0, 1, 2, 3, 4, 5, 6, 7, 8, 9]\n",
      "[0, 1, 2, 3, 4, 5, 6, 7, 8, 9]\n",
      "[0, 1, 2, 3, 4, 5, 6, 7, 8, 9]\n",
      "[0, 1, 2, 3, 4, 5, 6, 7, 8, 9]\n"
     ]
    }
   ],
   "source": [
    "# Preprocess Training, Validation, and Testing Data\n",
    "helper.preprocess_and_save_data(cifar10_dataset_folder_path, normalize, one_hot_encode)"
   ]
  },
  {
   "cell_type": "markdown",
   "metadata": {
    "deletable": true,
    "editable": true
   },
   "source": [
    "# Check Point\n",
    "The preprocessed data has been saved to disk."
   ]
  },
  {
   "cell_type": "code",
   "execution_count": 6,
   "metadata": {
    "collapsed": true,
    "deletable": true,
    "editable": true
   },
   "outputs": [],
   "source": [
    "import pickle\n",
    "import problem_unittests as tests\n",
    "import helper\n",
    "\n",
    "# Load the Preprocessed Validation data\n",
    "valid_features, valid_labels = pickle.load(open('preprocess_validation.p', mode='rb'))"
   ]
  },
  {
   "cell_type": "markdown",
   "metadata": {
    "deletable": true,
    "editable": true
   },
   "source": [
    "## Build the network\n",
    "Note: `None` for shapes in TensorFlow allow for a dynamic size."
   ]
  },
  {
   "cell_type": "code",
   "execution_count": 7,
   "metadata": {
    "collapsed": false,
    "deletable": true,
    "editable": true
   },
   "outputs": [
    {
     "name": "stdout",
     "output_type": "stream",
     "text": [
      "32 32 3\n",
      "Image Input Tests Passed.\n",
      "10\n",
      "Label Input Tests Passed.\n",
      "Keep Prob Tests Passed.\n"
     ]
    }
   ],
   "source": [
    "import tensorflow as tf\n",
    "\n",
    "def neural_net_image_input(image_shape):\n",
    "    \"\"\"\n",
    "    Return a Tensor for a batch of image input\n",
    "    : image_shape: Shape of the images\n",
    "    : return: Tensor for image input.\n",
    "    \"\"\"    \n",
    "    print(*image_shape)\n",
    "    tensor = tf.placeholder(tf.float32, \n",
    "                            shape=[None, image_shape[0], image_shape[1], image_shape[2]],\n",
    "                           name=\"x\")\n",
    "    return tensor\n",
    "\n",
    "\n",
    "def neural_net_label_input(n_classes):\n",
    "    \"\"\"\n",
    "    Return a Tensor for a batch of label input\n",
    "    : n_classes: Number of classes\n",
    "    : return: Tensor for label input.\n",
    "    \"\"\"\n",
    "    print(n_classes)\n",
    "    y = tf.placeholder(tf.float32, (None, n_classes), name=\"y\")\n",
    "    return y\n",
    "\n",
    "\n",
    "def neural_net_keep_prob_input():\n",
    "    \"\"\"\n",
    "    Return a Tensor for keep probability\n",
    "    : return: Tensor for keep probability.\n",
    "    \"\"\"\n",
    "    # TODO: Implement Function\n",
    "    keep = tf.placeholder(tf.float32, (None), name=\"keep_prob\")\n",
    "    return keep\n",
    "\n",
    "\n",
    "tf.reset_default_graph()\n",
    "tests.test_nn_image_inputs(neural_net_image_input)\n",
    "tests.test_nn_label_inputs(neural_net_label_input)\n",
    "tests.test_nn_keep_prob_inputs(neural_net_keep_prob_input)"
   ]
  },
  {
   "cell_type": "markdown",
   "metadata": {
    "deletable": true,
    "editable": true
   },
   "source": [
    "### Convolution and Max Pooling Layer"
   ]
  },
  {
   "cell_type": "code",
   "execution_count": 8,
   "metadata": {
    "collapsed": false,
    "deletable": true,
    "editable": true
   },
   "outputs": [],
   "source": [
    "def conv2d_maxpool(x_tensor, conv_num_outputs, conv_ksize, conv_strides, pool_ksize, pool_strides):\n",
    "    \"\"\"\n",
    "    Apply convolution then max pooling to x_tensor\n",
    "    :param x_tensor: TensorFlow Tensor\n",
    "    :param conv_num_outputs: Number of outputs for the convolutional layer\n",
    "    :param conv_ksize: kernal size 2-D Tuple for the convolutional layer\n",
    "    :param conv_strides: Stride 2-D Tuple for convolution\n",
    "    :param pool_ksize: kernal size 2-D Tuple for pool\n",
    "    :param pool_strides: Stride 2-D Tuple for pool\n",
    "    : return: A tensor that represents convolution and max pooling of x_tensor\n",
    "    \"\"\"\n",
    "    \n",
    "    tensor_shape = int(x_tensor.get_shape()[3])\n",
    "    \n",
    "    # Generate values with tf.truncated_normal\n",
    "    weights = tf.Variable(tf.truncated_normal([*conv_ksize, tensor_shape, conv_num_outputs], \n",
    "                                              mean=0, stddev=.1))\n",
    "    print(weights)\n",
    "    \n",
    "    bias = tf.Variable(tf.zeros(shape=[conv_num_outputs], dtype=tf.float32))\n",
    "    print(bias)\n",
    "    \n",
    "    result = tf.nn.conv2d(x_tensor, weights, strides=[1, *conv_strides, 1], padding=\"SAME\")\n",
    "    print(result)\n",
    "    \n",
    "    result = result + bias\n",
    "    print(result)\n",
    "    \n",
    "    #Activation\n",
    "    result = tf.nn.elu(result)\n",
    "    \n",
    "    # result = tf.nn.max_pool(result, [1, *pool_ksize, 1], [1, *pool_strides, 1], padding=\"SAME\")    \n",
    "    print(result)\n",
    "    \n",
    "    return result\n",
    "\n",
    "\n",
    "# tests.test_con_pool(conv2d_maxpool)"
   ]
  },
  {
   "cell_type": "markdown",
   "metadata": {
    "deletable": true,
    "editable": true
   },
   "source": [
    "### Flatten Layer"
   ]
  },
  {
   "cell_type": "code",
   "execution_count": 9,
   "metadata": {
    "collapsed": false,
    "deletable": true,
    "editable": true
   },
   "outputs": [
    {
     "name": "stdout",
     "output_type": "stream",
     "text": [
      "Tests Passed\n"
     ]
    }
   ],
   "source": [
    "def flatten(x_tensor):\n",
    "    \"\"\"\n",
    "    Flatten x_tensor to (Batch Size, Flattened Image Size)\n",
    "    : x_tensor: A tensor of size (Batch Size, ...), where ... are the image dimensions.\n",
    "    : return: A tensor of size (Batch Size, Flattened Image Size).\n",
    "    \"\"\"\n",
    "    # TODO: Implement Function\n",
    "    return tf.contrib.layers.flatten(x_tensor)\n",
    "\n",
    "\n",
    "tests.test_flatten(flatten)"
   ]
  },
  {
   "cell_type": "markdown",
   "metadata": {
    "deletable": true,
    "editable": true
   },
   "source": [
    "### Fully-Connected Layer"
   ]
  },
  {
   "cell_type": "code",
   "execution_count": 10,
   "metadata": {
    "collapsed": false,
    "deletable": true,
    "editable": true
   },
   "outputs": [
    {
     "name": "stdout",
     "output_type": "stream",
     "text": [
      "Tests Passed\n"
     ]
    }
   ],
   "source": [
    "def fully_conn(x_tensor, num_outputs):\n",
    "    \"\"\"\n",
    "    Apply a fully connected layer to x_tensor using weight and bias\n",
    "    : x_tensor: A 2-D tensor where the first dimension is batch size.\n",
    "    : num_outputs: The number of output that the new tensor should be.\n",
    "    : return: A 2-D tensor where the second dimension is num_outputs.\n",
    "    \"\"\"\n",
    "    return tf.contrib.layers.fully_connected(x_tensor, num_outputs)\n",
    "\n",
    "\n",
    "tests.test_fully_conn(fully_conn)"
   ]
  },
  {
   "cell_type": "markdown",
   "metadata": {
    "deletable": true,
    "editable": true
   },
   "source": [
    "### Output Layer"
   ]
  },
  {
   "cell_type": "code",
   "execution_count": 11,
   "metadata": {
    "collapsed": false,
    "deletable": true,
    "editable": true
   },
   "outputs": [
    {
     "name": "stdout",
     "output_type": "stream",
     "text": [
      "Tests Passed\n"
     ]
    }
   ],
   "source": [
    "def output(x_tensor, num_outputs):\n",
    "    \"\"\"\n",
    "    Apply a output layer to x_tensor using weight and bias\n",
    "    : x_tensor: A 2-D tensor where the first dimension is batch size.\n",
    "    : num_outputs: The number of output that the new tensor should be.\n",
    "    : return: A 2-D tensor where the second dimension is num_outputs.\n",
    "    \"\"\"\n",
    "    return tf.contrib.layers.fully_connected(x_tensor, \n",
    "                                             num_outputs, activation_fn=None)\n",
    "\n",
    "\n",
    "tests.test_output(output)"
   ]
  },
  {
   "cell_type": "markdown",
   "metadata": {
    "deletable": true,
    "editable": true
   },
   "source": [
    "### Show Stats"
   ]
  },
  {
   "cell_type": "code",
   "execution_count": 12,
   "metadata": {
    "collapsed": false,
    "deletable": true,
    "editable": true
   },
   "outputs": [],
   "source": [
    "def print_stats(session, feature_batch, label_batch, cost, accuracy):\n",
    "    \"\"\"\n",
    "    Print information about loss and validation accuracy\n",
    "    : session: Current TensorFlow session\n",
    "    : feature_batch: Batch of Numpy image data\n",
    "    : label_batch: Batch of Numpy label data\n",
    "    : cost: TensorFlow cost function\n",
    "    : accuracy: TensorFlow accuracy function\n",
    "    \"\"\"\n",
    "    print(\"Loss\", session.run(cost, feed_dict={x: feature_batch, y: label_batch, keep_prob: 1.0}))\n",
    "    print(\"Accuracy\", session.run(accuracy, feed_dict={x: feature_batch, y: label_batch, keep_prob: 1.0}))\n",
    "    print(\"Validation\",session.run(accuracy, feed_dict={x: valid_features, y: valid_labels, keep_prob: 1.0}))\n"
   ]
  },
  {
   "cell_type": "markdown",
   "metadata": {
    "deletable": true,
    "editable": true
   },
   "source": [
    "### Create Convolutional Model"
   ]
  },
  {
   "cell_type": "code",
   "execution_count": 47,
   "metadata": {
    "collapsed": false,
    "deletable": true,
    "editable": true,
    "scrolled": true
   },
   "outputs": [
    {
     "name": "stdout",
     "output_type": "stream",
     "text": [
      "32 32 3\n",
      "10\n",
      "Tensor(\"Variable/read:0\", shape=(3, 3, 3, 96), dtype=float32)\n",
      "Tensor(\"Variable_1/read:0\", shape=(96,), dtype=float32)\n",
      "Tensor(\"Conv2D:0\", shape=(?, 16, 16, 96), dtype=float32)\n",
      "Tensor(\"add:0\", shape=(?, 16, 16, 96), dtype=float32)\n",
      "Tensor(\"Elu:0\", shape=(?, 16, 16, 96), dtype=float32)\n",
      "Tensor(\"Variable_2/read:0\", shape=(3, 3, 96, 96), dtype=float32)\n",
      "Tensor(\"Variable_3/read:0\", shape=(96,), dtype=float32)\n",
      "Tensor(\"Conv2D_1:0\", shape=(?, 8, 8, 96), dtype=float32)\n",
      "Tensor(\"add_1:0\", shape=(?, 8, 8, 96), dtype=float32)\n",
      "Tensor(\"Elu_1:0\", shape=(?, 8, 8, 96), dtype=float32)\n",
      "Tensor(\"Variable_4/read:0\", shape=(3, 3, 96, 192), dtype=float32)\n",
      "Tensor(\"Variable_5/read:0\", shape=(192,), dtype=float32)\n",
      "Tensor(\"Conv2D_2:0\", shape=(?, 4, 4, 192), dtype=float32)\n",
      "Tensor(\"add_2:0\", shape=(?, 4, 4, 192), dtype=float32)\n",
      "Tensor(\"Elu_2:0\", shape=(?, 4, 4, 192), dtype=float32)\n",
      "Tensor(\"Variable_6/read:0\", shape=(3, 3, 192, 192), dtype=float32)\n",
      "Tensor(\"Variable_7/read:0\", shape=(192,), dtype=float32)\n",
      "Tensor(\"Conv2D_3:0\", shape=(?, 2, 2, 192), dtype=float32)\n",
      "Tensor(\"add_3:0\", shape=(?, 2, 2, 192), dtype=float32)\n",
      "Tensor(\"Elu_3:0\", shape=(?, 2, 2, 192), dtype=float32)\n",
      "Tensor(\"Variable_8/read:0\", shape=(1, 1, 192, 192), dtype=float32)\n",
      "Tensor(\"Variable_9/read:0\", shape=(192,), dtype=float32)\n",
      "Tensor(\"Conv2D_4:0\", shape=(?, 2, 2, 192), dtype=float32)\n",
      "Tensor(\"add_4:0\", shape=(?, 2, 2, 192), dtype=float32)\n",
      "Tensor(\"Elu_4:0\", shape=(?, 2, 2, 192), dtype=float32)\n",
      "Tensor(\"Variable_10/read:0\", shape=(1, 1, 192, 16), dtype=float32)\n",
      "Tensor(\"Variable_11/read:0\", shape=(16,), dtype=float32)\n",
      "Tensor(\"Conv2D_5:0\", shape=(?, 2, 2, 16), dtype=float32)\n",
      "Tensor(\"add_5:0\", shape=(?, 2, 2, 16), dtype=float32)\n",
      "Tensor(\"Elu_5:0\", shape=(?, 2, 2, 16), dtype=float32)\n",
      "Tensor(\"Variable_12/read:0\", shape=(3, 3, 3, 96), dtype=float32)\n",
      "Tensor(\"Variable_13/read:0\", shape=(96,), dtype=float32)\n",
      "Tensor(\"Conv2D_6:0\", shape=(?, 16, 16, 96), dtype=float32)\n",
      "Tensor(\"add_6:0\", shape=(?, 16, 16, 96), dtype=float32)\n",
      "Tensor(\"Elu_6:0\", shape=(?, 16, 16, 96), dtype=float32)\n",
      "Tensor(\"Variable_14/read:0\", shape=(3, 3, 96, 96), dtype=float32)\n",
      "Tensor(\"Variable_15/read:0\", shape=(96,), dtype=float32)\n",
      "Tensor(\"Conv2D_7:0\", shape=(?, 8, 8, 96), dtype=float32)\n",
      "Tensor(\"add_7:0\", shape=(?, 8, 8, 96), dtype=float32)\n",
      "Tensor(\"Elu_7:0\", shape=(?, 8, 8, 96), dtype=float32)\n",
      "Tensor(\"Variable_16/read:0\", shape=(3, 3, 96, 192), dtype=float32)\n",
      "Tensor(\"Variable_17/read:0\", shape=(192,), dtype=float32)\n",
      "Tensor(\"Conv2D_8:0\", shape=(?, 4, 4, 192), dtype=float32)\n",
      "Tensor(\"add_8:0\", shape=(?, 4, 4, 192), dtype=float32)\n",
      "Tensor(\"Elu_8:0\", shape=(?, 4, 4, 192), dtype=float32)\n",
      "Tensor(\"Variable_18/read:0\", shape=(3, 3, 192, 192), dtype=float32)\n",
      "Tensor(\"Variable_19/read:0\", shape=(192,), dtype=float32)\n",
      "Tensor(\"Conv2D_9:0\", shape=(?, 2, 2, 192), dtype=float32)\n",
      "Tensor(\"add_9:0\", shape=(?, 2, 2, 192), dtype=float32)\n",
      "Tensor(\"Elu_9:0\", shape=(?, 2, 2, 192), dtype=float32)\n",
      "Tensor(\"Variable_20/read:0\", shape=(1, 1, 192, 192), dtype=float32)\n",
      "Tensor(\"Variable_21/read:0\", shape=(192,), dtype=float32)\n",
      "Tensor(\"Conv2D_10:0\", shape=(?, 2, 2, 192), dtype=float32)\n",
      "Tensor(\"add_10:0\", shape=(?, 2, 2, 192), dtype=float32)\n",
      "Tensor(\"Elu_10:0\", shape=(?, 2, 2, 192), dtype=float32)\n",
      "Tensor(\"Variable_22/read:0\", shape=(1, 1, 192, 16), dtype=float32)\n",
      "Tensor(\"Variable_23/read:0\", shape=(16,), dtype=float32)\n",
      "Tensor(\"Conv2D_11:0\", shape=(?, 2, 2, 16), dtype=float32)\n",
      "Tensor(\"add_11:0\", shape=(?, 2, 2, 16), dtype=float32)\n",
      "Tensor(\"Elu_11:0\", shape=(?, 2, 2, 16), dtype=float32)\n",
      "Neural Network Built!\n"
     ]
    }
   ],
   "source": [
    "def conv_net(x, keep_prob):\n",
    "    \"\"\"\n",
    "    Create a convolutional neural network model\n",
    "    : x: Placeholder tensor that holds image data.\n",
    "    : keep_prob: Placeholder tensor that hold dropout keep probability.\n",
    "    : return: Tensor that represents logits\n",
    "    \"\"\"\n",
    "    \n",
    "    pool_ksize = (4, 4)\n",
    "    pool_strides = (4, 4)\n",
    "    \n",
    "    conv_ksize = (3, 3)\n",
    "    conv_num_outputs = 96\n",
    "    conv_strides = (2, 2)\n",
    "    net = conv2d_maxpool(x, conv_num_outputs, \n",
    "                         conv_ksize, conv_strides, \n",
    "                         pool_ksize, pool_strides)\n",
    "    net = conv2d_maxpool(net, conv_num_outputs, \n",
    "                         conv_ksize, conv_strides, \n",
    "                         pool_ksize, pool_strides)\n",
    "    \n",
    "    \n",
    "    net = tf.nn.dropout(net, keep_prob)\n",
    "    \n",
    "    \n",
    "    conv_num_outputs = 192\n",
    "    conv_strides = (2, 2)\n",
    "    net = conv2d_maxpool(net, conv_num_outputs, \n",
    "                         conv_ksize, conv_strides, \n",
    "                         pool_ksize, pool_strides)\n",
    "    net = conv2d_maxpool(net, conv_num_outputs, \n",
    "                         conv_ksize, conv_strides, \n",
    "                         pool_ksize, pool_strides)\n",
    "    \n",
    "    net = tf.nn.dropout(net, keep_prob)\n",
    "    \n",
    "    conv_ksize = (1, 1)\n",
    "    conv_strides = (1, 1)\n",
    "    net = conv2d_maxpool(net, conv_num_outputs, \n",
    "                         conv_ksize, conv_strides, \n",
    "                         pool_ksize, pool_strides)\n",
    "    \n",
    "    conv_num_outputs = 16\n",
    "    net = conv2d_maxpool(net, conv_num_outputs, \n",
    "                         conv_ksize, conv_strides, \n",
    "                         pool_ksize, pool_strides)\n",
    "    \n",
    "\n",
    "    \n",
    "    net = tf.contrib.layers.avg_pool2d(net, [2,2])\n",
    "    \n",
    "    net = flatten(net)\n",
    "        \n",
    "    # Apply an Output Layer\n",
    "    net = output(net, 10)\n",
    "    \n",
    "    return net\n",
    "\n",
    "\n",
    "##############################\n",
    "## Build the Neural Network ##\n",
    "##############################\n",
    "\n",
    "# Remove previous weights, bias, inputs, etc..\n",
    "tf.reset_default_graph()\n",
    "\n",
    "# Inputs\n",
    "x = neural_net_image_input((32, 32, 3))\n",
    "y = neural_net_label_input(10)\n",
    "keep_prob = neural_net_keep_prob_input()\n",
    "\n",
    "# Model\n",
    "logits = conv_net(x, keep_prob)\n",
    "\n",
    "# Name logits Tensor, so that is can be loaded from disk after training\n",
    "logits = tf.identity(logits, name='logits')\n",
    "\n",
    "# Loss and Optimizer\n",
    "cost = tf.reduce_mean(tf.nn.softmax_cross_entropy_with_logits(logits=logits, labels=y))\n",
    "optimizer = tf.train.AdamOptimizer(learning_rate=.001).minimize(cost)\n",
    "\n",
    "# Accuracy\n",
    "correct_pred = tf.equal(tf.argmax(logits, 1), tf.argmax(y, 1))\n",
    "accuracy = tf.reduce_mean(tf.cast(correct_pred, tf.float32), name='accuracy')\n",
    "\n",
    "tests.test_conv_net(conv_net)"
   ]
  },
  {
   "cell_type": "markdown",
   "metadata": {
    "deletable": true,
    "editable": true
   },
   "source": [
    "## Train the Neural Network\n",
    "### Single Optimization\n",
    "Implement the function `train_neural_network` to do a single optimization."
   ]
  },
  {
   "cell_type": "code",
   "execution_count": 14,
   "metadata": {
    "collapsed": false,
    "deletable": true,
    "editable": true
   },
   "outputs": [
    {
     "name": "stdout",
     "output_type": "stream",
     "text": [
      "Tests Passed\n"
     ]
    }
   ],
   "source": [
    "def train_neural_network(session, optimizer, keep_probability, feature_batch, label_batch):\n",
    "    \"\"\"\n",
    "    Optimize the session on a batch of images and labels\n",
    "    : session: Current TensorFlow session\n",
    "    : optimizer: TensorFlow optimizer function\n",
    "    : keep_probability: keep probability\n",
    "    : feature_batch: Batch of Numpy image data\n",
    "    : label_batch: Batch of Numpy label data\n",
    "    \"\"\"\n",
    "           \n",
    "    session.run(optimizer,\n",
    "                feed_dict = {x:feature_batch, y:label_batch, keep_prob:keep_probability})\n",
    "\n",
    "\n",
    "tests.test_train_nn(train_neural_network)"
   ]
  },
  {
   "cell_type": "markdown",
   "metadata": {
    "deletable": true,
    "editable": true
   },
   "source": [
    "### Hyperparameters"
   ]
  },
  {
   "cell_type": "code",
   "execution_count": 43,
   "metadata": {
    "collapsed": true,
    "deletable": true,
    "editable": true
   },
   "outputs": [],
   "source": [
    "epochs = 10\n",
    "batch_size = 64\n",
    "keep_probability = .7"
   ]
  },
  {
   "cell_type": "markdown",
   "metadata": {
    "deletable": true,
    "editable": true
   },
   "source": [
    "### Train on a Single CIFAR-10 Batch\n",
    "Instead of training the neural network on all the CIFAR-10 batches of data, let's use a single batch."
   ]
  },
  {
   "cell_type": "code",
   "execution_count": 46,
   "metadata": {
    "collapsed": false,
    "deletable": true,
    "editable": true,
    "scrolled": true
   },
   "outputs": [
    {
     "name": "stdout",
     "output_type": "stream",
     "text": [
      "Checking the Training on a Single Batch...\n"
     ]
    },
    {
     "ename": "InvalidArgumentError",
     "evalue": "stride must be less than or equal to kernel size\n\t [[Node: gradients/AvgPool2D/AvgPool_grad/AvgPoolGrad = AvgPoolGrad[T=DT_FLOAT, data_format=\"NHWC\", ksize=[1, 2, 2, 1], padding=\"VALID\", strides=[1, 8, 8, 1], _device=\"/job:localhost/replica:0/task:0/cpu:0\"](gradients/AvgPool2D/AvgPool_grad/Shape, gradients/Flatten/Reshape_grad/Reshape)]]\n\nCaused by op 'gradients/AvgPool2D/AvgPool_grad/AvgPoolGrad', defined at:\n  File \"C:\\anthony-ide\\Anaconda3\\envs\\tflearn\\lib\\runpy.py\", line 193, in _run_module_as_main\n    \"__main__\", mod_spec)\n  File \"C:\\anthony-ide\\Anaconda3\\envs\\tflearn\\lib\\runpy.py\", line 85, in _run_code\n    exec(code, run_globals)\n  File \"C:\\anthony-ide\\Anaconda3\\envs\\tflearn\\lib\\site-packages\\ipykernel\\__main__.py\", line 3, in <module>\n    app.launch_new_instance()\n  File \"C:\\anthony-ide\\Anaconda3\\envs\\tflearn\\lib\\site-packages\\traitlets\\config\\application.py\", line 658, in launch_instance\n    app.start()\n  File \"C:\\anthony-ide\\Anaconda3\\envs\\tflearn\\lib\\site-packages\\ipykernel\\kernelapp.py\", line 474, in start\n    ioloop.IOLoop.instance().start()\n  File \"C:\\anthony-ide\\Anaconda3\\envs\\tflearn\\lib\\site-packages\\zmq\\eventloop\\ioloop.py\", line 177, in start\n    super(ZMQIOLoop, self).start()\n  File \"C:\\anthony-ide\\Anaconda3\\envs\\tflearn\\lib\\site-packages\\tornado\\ioloop.py\", line 887, in start\n    handler_func(fd_obj, events)\n  File \"C:\\anthony-ide\\Anaconda3\\envs\\tflearn\\lib\\site-packages\\tornado\\stack_context.py\", line 275, in null_wrapper\n    return fn(*args, **kwargs)\n  File \"C:\\anthony-ide\\Anaconda3\\envs\\tflearn\\lib\\site-packages\\zmq\\eventloop\\zmqstream.py\", line 440, in _handle_events\n    self._handle_recv()\n  File \"C:\\anthony-ide\\Anaconda3\\envs\\tflearn\\lib\\site-packages\\zmq\\eventloop\\zmqstream.py\", line 472, in _handle_recv\n    self._run_callback(callback, msg)\n  File \"C:\\anthony-ide\\Anaconda3\\envs\\tflearn\\lib\\site-packages\\zmq\\eventloop\\zmqstream.py\", line 414, in _run_callback\n    callback(*args, **kwargs)\n  File \"C:\\anthony-ide\\Anaconda3\\envs\\tflearn\\lib\\site-packages\\tornado\\stack_context.py\", line 275, in null_wrapper\n    return fn(*args, **kwargs)\n  File \"C:\\anthony-ide\\Anaconda3\\envs\\tflearn\\lib\\site-packages\\ipykernel\\kernelbase.py\", line 276, in dispatcher\n    return self.dispatch_shell(stream, msg)\n  File \"C:\\anthony-ide\\Anaconda3\\envs\\tflearn\\lib\\site-packages\\ipykernel\\kernelbase.py\", line 228, in dispatch_shell\n    handler(stream, idents, msg)\n  File \"C:\\anthony-ide\\Anaconda3\\envs\\tflearn\\lib\\site-packages\\ipykernel\\kernelbase.py\", line 390, in execute_request\n    user_expressions, allow_stdin)\n  File \"C:\\anthony-ide\\Anaconda3\\envs\\tflearn\\lib\\site-packages\\ipykernel\\ipkernel.py\", line 196, in do_execute\n    res = shell.run_cell(code, store_history=store_history, silent=silent)\n  File \"C:\\anthony-ide\\Anaconda3\\envs\\tflearn\\lib\\site-packages\\ipykernel\\zmqshell.py\", line 501, in run_cell\n    return super(ZMQInteractiveShell, self).run_cell(*args, **kwargs)\n  File \"C:\\anthony-ide\\Anaconda3\\envs\\tflearn\\lib\\site-packages\\IPython\\core\\interactiveshell.py\", line 2717, in run_cell\n    interactivity=interactivity, compiler=compiler, result=result)\n  File \"C:\\anthony-ide\\Anaconda3\\envs\\tflearn\\lib\\site-packages\\IPython\\core\\interactiveshell.py\", line 2821, in run_ast_nodes\n    if self.run_code(code, result):\n  File \"C:\\anthony-ide\\Anaconda3\\envs\\tflearn\\lib\\site-packages\\IPython\\core\\interactiveshell.py\", line 2881, in run_code\n    exec(code_obj, self.user_global_ns, self.user_ns)\n  File \"<ipython-input-45-ffa36c5a13bc>\", line 80, in <module>\n    optimizer = tf.train.AdamOptimizer(learning_rate=.001).minimize(cost)\n  File \"C:\\anthony-ide\\Anaconda3\\envs\\tflearn\\lib\\site-packages\\tensorflow\\python\\training\\optimizer.py\", line 279, in minimize\n    grad_loss=grad_loss)\n  File \"C:\\anthony-ide\\Anaconda3\\envs\\tflearn\\lib\\site-packages\\tensorflow\\python\\training\\optimizer.py\", line 345, in compute_gradients\n    colocate_gradients_with_ops=colocate_gradients_with_ops)\n  File \"C:\\anthony-ide\\Anaconda3\\envs\\tflearn\\lib\\site-packages\\tensorflow\\python\\ops\\gradients_impl.py\", line 482, in gradients\n    in_grads = grad_fn(op, *out_grads)\n  File \"C:\\anthony-ide\\Anaconda3\\envs\\tflearn\\lib\\site-packages\\tensorflow\\python\\ops\\nn_grad.py\", line 410, in _AvgPoolGrad\n    data_format=op.get_attr(\"data_format\"))\n  File \"C:\\anthony-ide\\Anaconda3\\envs\\tflearn\\lib\\site-packages\\tensorflow\\python\\ops\\gen_nn_ops.py\", line 148, in _avg_pool_grad\n    data_format=data_format, name=name)\n  File \"C:\\anthony-ide\\Anaconda3\\envs\\tflearn\\lib\\site-packages\\tensorflow\\python\\framework\\op_def_library.py\", line 763, in apply_op\n    op_def=op_def)\n  File \"C:\\anthony-ide\\Anaconda3\\envs\\tflearn\\lib\\site-packages\\tensorflow\\python\\framework\\ops.py\", line 2327, in create_op\n    original_op=self._default_original_op, op_def=op_def)\n  File \"C:\\anthony-ide\\Anaconda3\\envs\\tflearn\\lib\\site-packages\\tensorflow\\python\\framework\\ops.py\", line 1226, in __init__\n    self._traceback = _extract_stack()\n\n...which was originally created as op 'AvgPool2D/AvgPool', defined at:\n  File \"C:\\anthony-ide\\Anaconda3\\envs\\tflearn\\lib\\runpy.py\", line 193, in _run_module_as_main\n    \"__main__\", mod_spec)\n[elided 18 identical lines from previous traceback]\n  File \"C:\\anthony-ide\\Anaconda3\\envs\\tflearn\\lib\\site-packages\\IPython\\core\\interactiveshell.py\", line 2881, in run_code\n    exec(code_obj, self.user_global_ns, self.user_ns)\n  File \"<ipython-input-45-ffa36c5a13bc>\", line 73, in <module>\n    logits = conv_net(x, keep_prob)\n  File \"<ipython-input-45-ffa36c5a13bc>\", line 50, in conv_net\n    net = tf.contrib.layers.avg_pool2d(net, [2,2], [8,8])\n  File \"C:\\anthony-ide\\Anaconda3\\envs\\tflearn\\lib\\site-packages\\tensorflow\\contrib\\framework\\python\\ops\\arg_scope.py\", line 177, in func_with_args\n    return func(*args, **current_args)\n  File \"C:\\anthony-ide\\Anaconda3\\envs\\tflearn\\lib\\site-packages\\tensorflow\\contrib\\layers\\python\\layers\\layers.py\", line 128, in avg_pool2d\n    outputs = layer.apply(inputs)\n  File \"C:\\anthony-ide\\Anaconda3\\envs\\tflearn\\lib\\site-packages\\tensorflow\\python\\layers\\base.py\", line 303, in apply\n    return self.__call__(inputs, **kwargs)\n  File \"C:\\anthony-ide\\Anaconda3\\envs\\tflearn\\lib\\site-packages\\tensorflow\\python\\layers\\base.py\", line 273, in __call__\n    outputs = self.call(inputs, **kwargs)\n  File \"C:\\anthony-ide\\Anaconda3\\envs\\tflearn\\lib\\site-packages\\tensorflow\\python\\layers\\pooling.py\", line 277, in call\n    data_format=utils.convert_data_format(self.data_format, 4))\n  File \"C:\\anthony-ide\\Anaconda3\\envs\\tflearn\\lib\\site-packages\\tensorflow\\python\\ops\\nn_ops.py\", line 1765, in avg_pool\n    name=name)\n  File \"C:\\anthony-ide\\Anaconda3\\envs\\tflearn\\lib\\site-packages\\tensorflow\\python\\ops\\gen_nn_ops.py\", line 50, in _avg_pool\n    data_format=data_format, name=name)\n\nInvalidArgumentError (see above for traceback): stride must be less than or equal to kernel size\n\t [[Node: gradients/AvgPool2D/AvgPool_grad/AvgPoolGrad = AvgPoolGrad[T=DT_FLOAT, data_format=\"NHWC\", ksize=[1, 2, 2, 1], padding=\"VALID\", strides=[1, 8, 8, 1], _device=\"/job:localhost/replica:0/task:0/cpu:0\"](gradients/AvgPool2D/AvgPool_grad/Shape, gradients/Flatten/Reshape_grad/Reshape)]]\n",
     "output_type": "error",
     "traceback": [
      "\u001b[1;31m---------------------------------------------------------------------------\u001b[0m",
      "\u001b[1;31mInvalidArgumentError\u001b[0m                      Traceback (most recent call last)",
      "\u001b[1;32mC:\\anthony-ide\\Anaconda3\\envs\\tflearn\\lib\\site-packages\\tensorflow\\python\\client\\session.py\u001b[0m in \u001b[0;36m_do_call\u001b[1;34m(self, fn, *args)\u001b[0m\n\u001b[0;32m   1021\u001b[0m     \u001b[1;32mtry\u001b[0m\u001b[1;33m:\u001b[0m\u001b[1;33m\u001b[0m\u001b[0m\n\u001b[1;32m-> 1022\u001b[1;33m       \u001b[1;32mreturn\u001b[0m \u001b[0mfn\u001b[0m\u001b[1;33m(\u001b[0m\u001b[1;33m*\u001b[0m\u001b[0margs\u001b[0m\u001b[1;33m)\u001b[0m\u001b[1;33m\u001b[0m\u001b[0m\n\u001b[0m\u001b[0;32m   1023\u001b[0m     \u001b[1;32mexcept\u001b[0m \u001b[0merrors\u001b[0m\u001b[1;33m.\u001b[0m\u001b[0mOpError\u001b[0m \u001b[1;32mas\u001b[0m \u001b[0me\u001b[0m\u001b[1;33m:\u001b[0m\u001b[1;33m\u001b[0m\u001b[0m\n",
      "\u001b[1;32mC:\\anthony-ide\\Anaconda3\\envs\\tflearn\\lib\\site-packages\\tensorflow\\python\\client\\session.py\u001b[0m in \u001b[0;36m_run_fn\u001b[1;34m(session, feed_dict, fetch_list, target_list, options, run_metadata)\u001b[0m\n\u001b[0;32m   1003\u001b[0m                                  \u001b[0mfeed_dict\u001b[0m\u001b[1;33m,\u001b[0m \u001b[0mfetch_list\u001b[0m\u001b[1;33m,\u001b[0m \u001b[0mtarget_list\u001b[0m\u001b[1;33m,\u001b[0m\u001b[1;33m\u001b[0m\u001b[0m\n\u001b[1;32m-> 1004\u001b[1;33m                                  status, run_metadata)\n\u001b[0m\u001b[0;32m   1005\u001b[0m \u001b[1;33m\u001b[0m\u001b[0m\n",
      "\u001b[1;32mC:\\anthony-ide\\Anaconda3\\envs\\tflearn\\lib\\contextlib.py\u001b[0m in \u001b[0;36m__exit__\u001b[1;34m(self, type, value, traceback)\u001b[0m\n\u001b[0;32m     65\u001b[0m             \u001b[1;32mtry\u001b[0m\u001b[1;33m:\u001b[0m\u001b[1;33m\u001b[0m\u001b[0m\n\u001b[1;32m---> 66\u001b[1;33m                 \u001b[0mnext\u001b[0m\u001b[1;33m(\u001b[0m\u001b[0mself\u001b[0m\u001b[1;33m.\u001b[0m\u001b[0mgen\u001b[0m\u001b[1;33m)\u001b[0m\u001b[1;33m\u001b[0m\u001b[0m\n\u001b[0m\u001b[0;32m     67\u001b[0m             \u001b[1;32mexcept\u001b[0m \u001b[0mStopIteration\u001b[0m\u001b[1;33m:\u001b[0m\u001b[1;33m\u001b[0m\u001b[0m\n",
      "\u001b[1;32mC:\\anthony-ide\\Anaconda3\\envs\\tflearn\\lib\\site-packages\\tensorflow\\python\\framework\\errors_impl.py\u001b[0m in \u001b[0;36mraise_exception_on_not_ok_status\u001b[1;34m()\u001b[0m\n\u001b[0;32m    465\u001b[0m           \u001b[0mcompat\u001b[0m\u001b[1;33m.\u001b[0m\u001b[0mas_text\u001b[0m\u001b[1;33m(\u001b[0m\u001b[0mpywrap_tensorflow\u001b[0m\u001b[1;33m.\u001b[0m\u001b[0mTF_Message\u001b[0m\u001b[1;33m(\u001b[0m\u001b[0mstatus\u001b[0m\u001b[1;33m)\u001b[0m\u001b[1;33m)\u001b[0m\u001b[1;33m,\u001b[0m\u001b[1;33m\u001b[0m\u001b[0m\n\u001b[1;32m--> 466\u001b[1;33m           pywrap_tensorflow.TF_GetCode(status))\n\u001b[0m\u001b[0;32m    467\u001b[0m   \u001b[1;32mfinally\u001b[0m\u001b[1;33m:\u001b[0m\u001b[1;33m\u001b[0m\u001b[0m\n",
      "\u001b[1;31mInvalidArgumentError\u001b[0m: stride must be less than or equal to kernel size\n\t [[Node: gradients/AvgPool2D/AvgPool_grad/AvgPoolGrad = AvgPoolGrad[T=DT_FLOAT, data_format=\"NHWC\", ksize=[1, 2, 2, 1], padding=\"VALID\", strides=[1, 8, 8, 1], _device=\"/job:localhost/replica:0/task:0/cpu:0\"](gradients/AvgPool2D/AvgPool_grad/Shape, gradients/Flatten/Reshape_grad/Reshape)]]",
      "\nDuring handling of the above exception, another exception occurred:\n",
      "\u001b[1;31mInvalidArgumentError\u001b[0m                      Traceback (most recent call last)",
      "\u001b[1;32m<ipython-input-46-f4364433eba1>\u001b[0m in \u001b[0;36m<module>\u001b[1;34m()\u001b[0m\n\u001b[0;32m     13\u001b[0m         \u001b[0mbatch_i\u001b[0m \u001b[1;33m=\u001b[0m \u001b[1;36m1\u001b[0m\u001b[1;33m\u001b[0m\u001b[0m\n\u001b[0;32m     14\u001b[0m         \u001b[1;32mfor\u001b[0m \u001b[0mbatch_features\u001b[0m\u001b[1;33m,\u001b[0m \u001b[0mbatch_labels\u001b[0m \u001b[1;32min\u001b[0m \u001b[0mhelper\u001b[0m\u001b[1;33m.\u001b[0m\u001b[0mload_preprocess_training_batch\u001b[0m\u001b[1;33m(\u001b[0m\u001b[0mbatch_i\u001b[0m\u001b[1;33m,\u001b[0m \u001b[0mbatch_size\u001b[0m\u001b[1;33m)\u001b[0m\u001b[1;33m:\u001b[0m\u001b[1;33m\u001b[0m\u001b[0m\n\u001b[1;32m---> 15\u001b[1;33m             \u001b[0mtrain_neural_network\u001b[0m\u001b[1;33m(\u001b[0m\u001b[0msess\u001b[0m\u001b[1;33m,\u001b[0m \u001b[0moptimizer\u001b[0m\u001b[1;33m,\u001b[0m \u001b[0mkeep_probability\u001b[0m\u001b[1;33m,\u001b[0m \u001b[0mbatch_features\u001b[0m\u001b[1;33m,\u001b[0m \u001b[0mbatch_labels\u001b[0m\u001b[1;33m)\u001b[0m\u001b[1;33m\u001b[0m\u001b[0m\n\u001b[0m\u001b[0;32m     16\u001b[0m         \u001b[0mprint\u001b[0m\u001b[1;33m(\u001b[0m\u001b[1;34m'Epoch {:>2}, CIFAR-10 Batch {}:  '\u001b[0m\u001b[1;33m.\u001b[0m\u001b[0mformat\u001b[0m\u001b[1;33m(\u001b[0m\u001b[0mepoch\u001b[0m \u001b[1;33m+\u001b[0m \u001b[1;36m1\u001b[0m\u001b[1;33m,\u001b[0m \u001b[0mbatch_i\u001b[0m\u001b[1;33m)\u001b[0m\u001b[1;33m,\u001b[0m \u001b[0mend\u001b[0m\u001b[1;33m=\u001b[0m\u001b[1;34m''\u001b[0m\u001b[1;33m)\u001b[0m\u001b[1;33m\u001b[0m\u001b[0m\n\u001b[0;32m     17\u001b[0m         \u001b[0mprint_stats\u001b[0m\u001b[1;33m(\u001b[0m\u001b[0msess\u001b[0m\u001b[1;33m,\u001b[0m \u001b[0mbatch_features\u001b[0m\u001b[1;33m,\u001b[0m \u001b[0mbatch_labels\u001b[0m\u001b[1;33m,\u001b[0m \u001b[0mcost\u001b[0m\u001b[1;33m,\u001b[0m \u001b[0maccuracy\u001b[0m\u001b[1;33m)\u001b[0m\u001b[1;33m\u001b[0m\u001b[0m\n",
      "\u001b[1;32m<ipython-input-14-8cb8f9fc8391>\u001b[0m in \u001b[0;36mtrain_neural_network\u001b[1;34m(session, optimizer, keep_probability, feature_batch, label_batch)\u001b[0m\n\u001b[0;32m     10\u001b[0m \u001b[1;33m\u001b[0m\u001b[0m\n\u001b[0;32m     11\u001b[0m     session.run(optimizer,\n\u001b[1;32m---> 12\u001b[1;33m                 feed_dict = {x:feature_batch, y:label_batch, keep_prob:keep_probability})\n\u001b[0m\u001b[0;32m     13\u001b[0m \u001b[1;33m\u001b[0m\u001b[0m\n\u001b[0;32m     14\u001b[0m \u001b[1;33m\u001b[0m\u001b[0m\n",
      "\u001b[1;32mC:\\anthony-ide\\Anaconda3\\envs\\tflearn\\lib\\site-packages\\tensorflow\\python\\client\\session.py\u001b[0m in \u001b[0;36mrun\u001b[1;34m(self, fetches, feed_dict, options, run_metadata)\u001b[0m\n\u001b[0;32m    765\u001b[0m     \u001b[1;32mtry\u001b[0m\u001b[1;33m:\u001b[0m\u001b[1;33m\u001b[0m\u001b[0m\n\u001b[0;32m    766\u001b[0m       result = self._run(None, fetches, feed_dict, options_ptr,\n\u001b[1;32m--> 767\u001b[1;33m                          run_metadata_ptr)\n\u001b[0m\u001b[0;32m    768\u001b[0m       \u001b[1;32mif\u001b[0m \u001b[0mrun_metadata\u001b[0m\u001b[1;33m:\u001b[0m\u001b[1;33m\u001b[0m\u001b[0m\n\u001b[0;32m    769\u001b[0m         \u001b[0mproto_data\u001b[0m \u001b[1;33m=\u001b[0m \u001b[0mtf_session\u001b[0m\u001b[1;33m.\u001b[0m\u001b[0mTF_GetBuffer\u001b[0m\u001b[1;33m(\u001b[0m\u001b[0mrun_metadata_ptr\u001b[0m\u001b[1;33m)\u001b[0m\u001b[1;33m\u001b[0m\u001b[0m\n",
      "\u001b[1;32mC:\\anthony-ide\\Anaconda3\\envs\\tflearn\\lib\\site-packages\\tensorflow\\python\\client\\session.py\u001b[0m in \u001b[0;36m_run\u001b[1;34m(self, handle, fetches, feed_dict, options, run_metadata)\u001b[0m\n\u001b[0;32m    963\u001b[0m     \u001b[1;32mif\u001b[0m \u001b[0mfinal_fetches\u001b[0m \u001b[1;32mor\u001b[0m \u001b[0mfinal_targets\u001b[0m\u001b[1;33m:\u001b[0m\u001b[1;33m\u001b[0m\u001b[0m\n\u001b[0;32m    964\u001b[0m       results = self._do_run(handle, final_targets, final_fetches,\n\u001b[1;32m--> 965\u001b[1;33m                              feed_dict_string, options, run_metadata)\n\u001b[0m\u001b[0;32m    966\u001b[0m     \u001b[1;32melse\u001b[0m\u001b[1;33m:\u001b[0m\u001b[1;33m\u001b[0m\u001b[0m\n\u001b[0;32m    967\u001b[0m       \u001b[0mresults\u001b[0m \u001b[1;33m=\u001b[0m \u001b[1;33m[\u001b[0m\u001b[1;33m]\u001b[0m\u001b[1;33m\u001b[0m\u001b[0m\n",
      "\u001b[1;32mC:\\anthony-ide\\Anaconda3\\envs\\tflearn\\lib\\site-packages\\tensorflow\\python\\client\\session.py\u001b[0m in \u001b[0;36m_do_run\u001b[1;34m(self, handle, target_list, fetch_list, feed_dict, options, run_metadata)\u001b[0m\n\u001b[0;32m   1013\u001b[0m     \u001b[1;32mif\u001b[0m \u001b[0mhandle\u001b[0m \u001b[1;32mis\u001b[0m \u001b[1;32mNone\u001b[0m\u001b[1;33m:\u001b[0m\u001b[1;33m\u001b[0m\u001b[0m\n\u001b[0;32m   1014\u001b[0m       return self._do_call(_run_fn, self._session, feed_dict, fetch_list,\n\u001b[1;32m-> 1015\u001b[1;33m                            target_list, options, run_metadata)\n\u001b[0m\u001b[0;32m   1016\u001b[0m     \u001b[1;32melse\u001b[0m\u001b[1;33m:\u001b[0m\u001b[1;33m\u001b[0m\u001b[0m\n\u001b[0;32m   1017\u001b[0m       return self._do_call(_prun_fn, self._session, handle, feed_dict,\n",
      "\u001b[1;32mC:\\anthony-ide\\Anaconda3\\envs\\tflearn\\lib\\site-packages\\tensorflow\\python\\client\\session.py\u001b[0m in \u001b[0;36m_do_call\u001b[1;34m(self, fn, *args)\u001b[0m\n\u001b[0;32m   1033\u001b[0m         \u001b[1;32mexcept\u001b[0m \u001b[0mKeyError\u001b[0m\u001b[1;33m:\u001b[0m\u001b[1;33m\u001b[0m\u001b[0m\n\u001b[0;32m   1034\u001b[0m           \u001b[1;32mpass\u001b[0m\u001b[1;33m\u001b[0m\u001b[0m\n\u001b[1;32m-> 1035\u001b[1;33m       \u001b[1;32mraise\u001b[0m \u001b[0mtype\u001b[0m\u001b[1;33m(\u001b[0m\u001b[0me\u001b[0m\u001b[1;33m)\u001b[0m\u001b[1;33m(\u001b[0m\u001b[0mnode_def\u001b[0m\u001b[1;33m,\u001b[0m \u001b[0mop\u001b[0m\u001b[1;33m,\u001b[0m \u001b[0mmessage\u001b[0m\u001b[1;33m)\u001b[0m\u001b[1;33m\u001b[0m\u001b[0m\n\u001b[0m\u001b[0;32m   1036\u001b[0m \u001b[1;33m\u001b[0m\u001b[0m\n\u001b[0;32m   1037\u001b[0m   \u001b[1;32mdef\u001b[0m \u001b[0m_extend_graph\u001b[0m\u001b[1;33m(\u001b[0m\u001b[0mself\u001b[0m\u001b[1;33m)\u001b[0m\u001b[1;33m:\u001b[0m\u001b[1;33m\u001b[0m\u001b[0m\n",
      "\u001b[1;31mInvalidArgumentError\u001b[0m: stride must be less than or equal to kernel size\n\t [[Node: gradients/AvgPool2D/AvgPool_grad/AvgPoolGrad = AvgPoolGrad[T=DT_FLOAT, data_format=\"NHWC\", ksize=[1, 2, 2, 1], padding=\"VALID\", strides=[1, 8, 8, 1], _device=\"/job:localhost/replica:0/task:0/cpu:0\"](gradients/AvgPool2D/AvgPool_grad/Shape, gradients/Flatten/Reshape_grad/Reshape)]]\n\nCaused by op 'gradients/AvgPool2D/AvgPool_grad/AvgPoolGrad', defined at:\n  File \"C:\\anthony-ide\\Anaconda3\\envs\\tflearn\\lib\\runpy.py\", line 193, in _run_module_as_main\n    \"__main__\", mod_spec)\n  File \"C:\\anthony-ide\\Anaconda3\\envs\\tflearn\\lib\\runpy.py\", line 85, in _run_code\n    exec(code, run_globals)\n  File \"C:\\anthony-ide\\Anaconda3\\envs\\tflearn\\lib\\site-packages\\ipykernel\\__main__.py\", line 3, in <module>\n    app.launch_new_instance()\n  File \"C:\\anthony-ide\\Anaconda3\\envs\\tflearn\\lib\\site-packages\\traitlets\\config\\application.py\", line 658, in launch_instance\n    app.start()\n  File \"C:\\anthony-ide\\Anaconda3\\envs\\tflearn\\lib\\site-packages\\ipykernel\\kernelapp.py\", line 474, in start\n    ioloop.IOLoop.instance().start()\n  File \"C:\\anthony-ide\\Anaconda3\\envs\\tflearn\\lib\\site-packages\\zmq\\eventloop\\ioloop.py\", line 177, in start\n    super(ZMQIOLoop, self).start()\n  File \"C:\\anthony-ide\\Anaconda3\\envs\\tflearn\\lib\\site-packages\\tornado\\ioloop.py\", line 887, in start\n    handler_func(fd_obj, events)\n  File \"C:\\anthony-ide\\Anaconda3\\envs\\tflearn\\lib\\site-packages\\tornado\\stack_context.py\", line 275, in null_wrapper\n    return fn(*args, **kwargs)\n  File \"C:\\anthony-ide\\Anaconda3\\envs\\tflearn\\lib\\site-packages\\zmq\\eventloop\\zmqstream.py\", line 440, in _handle_events\n    self._handle_recv()\n  File \"C:\\anthony-ide\\Anaconda3\\envs\\tflearn\\lib\\site-packages\\zmq\\eventloop\\zmqstream.py\", line 472, in _handle_recv\n    self._run_callback(callback, msg)\n  File \"C:\\anthony-ide\\Anaconda3\\envs\\tflearn\\lib\\site-packages\\zmq\\eventloop\\zmqstream.py\", line 414, in _run_callback\n    callback(*args, **kwargs)\n  File \"C:\\anthony-ide\\Anaconda3\\envs\\tflearn\\lib\\site-packages\\tornado\\stack_context.py\", line 275, in null_wrapper\n    return fn(*args, **kwargs)\n  File \"C:\\anthony-ide\\Anaconda3\\envs\\tflearn\\lib\\site-packages\\ipykernel\\kernelbase.py\", line 276, in dispatcher\n    return self.dispatch_shell(stream, msg)\n  File \"C:\\anthony-ide\\Anaconda3\\envs\\tflearn\\lib\\site-packages\\ipykernel\\kernelbase.py\", line 228, in dispatch_shell\n    handler(stream, idents, msg)\n  File \"C:\\anthony-ide\\Anaconda3\\envs\\tflearn\\lib\\site-packages\\ipykernel\\kernelbase.py\", line 390, in execute_request\n    user_expressions, allow_stdin)\n  File \"C:\\anthony-ide\\Anaconda3\\envs\\tflearn\\lib\\site-packages\\ipykernel\\ipkernel.py\", line 196, in do_execute\n    res = shell.run_cell(code, store_history=store_history, silent=silent)\n  File \"C:\\anthony-ide\\Anaconda3\\envs\\tflearn\\lib\\site-packages\\ipykernel\\zmqshell.py\", line 501, in run_cell\n    return super(ZMQInteractiveShell, self).run_cell(*args, **kwargs)\n  File \"C:\\anthony-ide\\Anaconda3\\envs\\tflearn\\lib\\site-packages\\IPython\\core\\interactiveshell.py\", line 2717, in run_cell\n    interactivity=interactivity, compiler=compiler, result=result)\n  File \"C:\\anthony-ide\\Anaconda3\\envs\\tflearn\\lib\\site-packages\\IPython\\core\\interactiveshell.py\", line 2821, in run_ast_nodes\n    if self.run_code(code, result):\n  File \"C:\\anthony-ide\\Anaconda3\\envs\\tflearn\\lib\\site-packages\\IPython\\core\\interactiveshell.py\", line 2881, in run_code\n    exec(code_obj, self.user_global_ns, self.user_ns)\n  File \"<ipython-input-45-ffa36c5a13bc>\", line 80, in <module>\n    optimizer = tf.train.AdamOptimizer(learning_rate=.001).minimize(cost)\n  File \"C:\\anthony-ide\\Anaconda3\\envs\\tflearn\\lib\\site-packages\\tensorflow\\python\\training\\optimizer.py\", line 279, in minimize\n    grad_loss=grad_loss)\n  File \"C:\\anthony-ide\\Anaconda3\\envs\\tflearn\\lib\\site-packages\\tensorflow\\python\\training\\optimizer.py\", line 345, in compute_gradients\n    colocate_gradients_with_ops=colocate_gradients_with_ops)\n  File \"C:\\anthony-ide\\Anaconda3\\envs\\tflearn\\lib\\site-packages\\tensorflow\\python\\ops\\gradients_impl.py\", line 482, in gradients\n    in_grads = grad_fn(op, *out_grads)\n  File \"C:\\anthony-ide\\Anaconda3\\envs\\tflearn\\lib\\site-packages\\tensorflow\\python\\ops\\nn_grad.py\", line 410, in _AvgPoolGrad\n    data_format=op.get_attr(\"data_format\"))\n  File \"C:\\anthony-ide\\Anaconda3\\envs\\tflearn\\lib\\site-packages\\tensorflow\\python\\ops\\gen_nn_ops.py\", line 148, in _avg_pool_grad\n    data_format=data_format, name=name)\n  File \"C:\\anthony-ide\\Anaconda3\\envs\\tflearn\\lib\\site-packages\\tensorflow\\python\\framework\\op_def_library.py\", line 763, in apply_op\n    op_def=op_def)\n  File \"C:\\anthony-ide\\Anaconda3\\envs\\tflearn\\lib\\site-packages\\tensorflow\\python\\framework\\ops.py\", line 2327, in create_op\n    original_op=self._default_original_op, op_def=op_def)\n  File \"C:\\anthony-ide\\Anaconda3\\envs\\tflearn\\lib\\site-packages\\tensorflow\\python\\framework\\ops.py\", line 1226, in __init__\n    self._traceback = _extract_stack()\n\n...which was originally created as op 'AvgPool2D/AvgPool', defined at:\n  File \"C:\\anthony-ide\\Anaconda3\\envs\\tflearn\\lib\\runpy.py\", line 193, in _run_module_as_main\n    \"__main__\", mod_spec)\n[elided 18 identical lines from previous traceback]\n  File \"C:\\anthony-ide\\Anaconda3\\envs\\tflearn\\lib\\site-packages\\IPython\\core\\interactiveshell.py\", line 2881, in run_code\n    exec(code_obj, self.user_global_ns, self.user_ns)\n  File \"<ipython-input-45-ffa36c5a13bc>\", line 73, in <module>\n    logits = conv_net(x, keep_prob)\n  File \"<ipython-input-45-ffa36c5a13bc>\", line 50, in conv_net\n    net = tf.contrib.layers.avg_pool2d(net, [2,2], [8,8])\n  File \"C:\\anthony-ide\\Anaconda3\\envs\\tflearn\\lib\\site-packages\\tensorflow\\contrib\\framework\\python\\ops\\arg_scope.py\", line 177, in func_with_args\n    return func(*args, **current_args)\n  File \"C:\\anthony-ide\\Anaconda3\\envs\\tflearn\\lib\\site-packages\\tensorflow\\contrib\\layers\\python\\layers\\layers.py\", line 128, in avg_pool2d\n    outputs = layer.apply(inputs)\n  File \"C:\\anthony-ide\\Anaconda3\\envs\\tflearn\\lib\\site-packages\\tensorflow\\python\\layers\\base.py\", line 303, in apply\n    return self.__call__(inputs, **kwargs)\n  File \"C:\\anthony-ide\\Anaconda3\\envs\\tflearn\\lib\\site-packages\\tensorflow\\python\\layers\\base.py\", line 273, in __call__\n    outputs = self.call(inputs, **kwargs)\n  File \"C:\\anthony-ide\\Anaconda3\\envs\\tflearn\\lib\\site-packages\\tensorflow\\python\\layers\\pooling.py\", line 277, in call\n    data_format=utils.convert_data_format(self.data_format, 4))\n  File \"C:\\anthony-ide\\Anaconda3\\envs\\tflearn\\lib\\site-packages\\tensorflow\\python\\ops\\nn_ops.py\", line 1765, in avg_pool\n    name=name)\n  File \"C:\\anthony-ide\\Anaconda3\\envs\\tflearn\\lib\\site-packages\\tensorflow\\python\\ops\\gen_nn_ops.py\", line 50, in _avg_pool\n    data_format=data_format, name=name)\n\nInvalidArgumentError (see above for traceback): stride must be less than or equal to kernel size\n\t [[Node: gradients/AvgPool2D/AvgPool_grad/AvgPoolGrad = AvgPoolGrad[T=DT_FLOAT, data_format=\"NHWC\", ksize=[1, 2, 2, 1], padding=\"VALID\", strides=[1, 8, 8, 1], _device=\"/job:localhost/replica:0/task:0/cpu:0\"](gradients/AvgPool2D/AvgPool_grad/Shape, gradients/Flatten/Reshape_grad/Reshape)]]\n"
     ]
    }
   ],
   "source": [
    "\"\"\"\n",
    "New test based on:\n",
    "https://arxiv.org/pdf/1412.6806.pdf\n",
    "\n",
    "\"\"\"\n",
    "print('Checking the Training on a Single Batch...')\n",
    "with tf.Session() as sess:\n",
    "    # Initializing the variables\n",
    "    sess.run(tf.global_variables_initializer())\n",
    "    \n",
    "    # Training cycle\n",
    "    for epoch in range(epochs):\n",
    "        batch_i = 1\n",
    "        for batch_features, batch_labels in helper.load_preprocess_training_batch(batch_i, batch_size):\n",
    "            train_neural_network(sess, optimizer, keep_probability, batch_features, batch_labels)\n",
    "        print('Epoch {:>2}, CIFAR-10 Batch {}:  '.format(epoch + 1, batch_i), end='')\n",
    "        print_stats(sess, batch_features, batch_labels, cost, accuracy)"
   ]
  },
  {
   "cell_type": "code",
   "execution_count": null,
   "metadata": {
    "collapsed": true,
    "deletable": true,
    "editable": true
   },
   "outputs": [],
   "source": []
  },
  {
   "cell_type": "markdown",
   "metadata": {
    "deletable": true,
    "editable": true
   },
   "source": [
    "### Fully Train the Model\n",
    "Now that you got a good accuracy with a single CIFAR-10 batch, try it with all five batches."
   ]
  },
  {
   "cell_type": "code",
   "execution_count": 42,
   "metadata": {
    "collapsed": false,
    "deletable": true,
    "editable": true,
    "scrolled": true
   },
   "outputs": [
    {
     "name": "stdout",
     "output_type": "stream",
     "text": [
      "Training...\n",
      "Epoch  1, CIFAR-10 Batch 1:  Loss 2.1603\n",
      "Accuracy 0.275\n",
      "Validation 0.2548\n",
      "Epoch  1, CIFAR-10 Batch 2:  Loss 1.71053\n",
      "Accuracy 0.35\n",
      "Validation 0.345\n",
      "Epoch  1, CIFAR-10 Batch 3:  Loss 1.46078\n",
      "Accuracy 0.45\n",
      "Validation 0.3806\n",
      "Epoch  1, CIFAR-10 Batch 4:  Loss 1.64963\n",
      "Accuracy 0.4\n",
      "Validation 0.3794\n",
      "Epoch  1, CIFAR-10 Batch 5:  Loss 1.75752\n",
      "Accuracy 0.45\n",
      "Validation 0.412\n",
      "Epoch  2, CIFAR-10 Batch 1:  Loss 1.74079\n",
      "Accuracy 0.425\n",
      "Validation 0.426\n",
      "Epoch  2, CIFAR-10 Batch 2:  Loss 1.44942\n",
      "Accuracy 0.475\n",
      "Validation 0.438\n",
      "Epoch  2, CIFAR-10 Batch 3:  Loss 1.11097\n",
      "Accuracy 0.65\n",
      "Validation 0.4532\n",
      "Epoch  2, CIFAR-10 Batch 4:  Loss 1.39879\n",
      "Accuracy 0.525\n",
      "Validation 0.4486\n",
      "Epoch  2, CIFAR-10 Batch 5:  Loss 1.73115\n",
      "Accuracy 0.35\n",
      "Validation 0.4564\n",
      "Epoch  3, CIFAR-10 Batch 1:  Loss 1.79661\n",
      "Accuracy 0.525\n",
      "Validation 0.4682\n",
      "Epoch  3, CIFAR-10 Batch 2:  Loss 1.33403\n",
      "Accuracy 0.525\n",
      "Validation 0.476\n",
      "Epoch  3, CIFAR-10 Batch 3:  Loss 1.04343\n",
      "Accuracy 0.625\n",
      "Validation 0.477\n",
      "Epoch  3, CIFAR-10 Batch 4:  Loss 1.3528\n",
      "Accuracy 0.525\n",
      "Validation 0.4686\n",
      "Epoch  3, CIFAR-10 Batch 5:  Loss 1.68573\n",
      "Accuracy 0.425\n",
      "Validation 0.4938\n",
      "Epoch  4, CIFAR-10 Batch 1:  Loss 1.65554\n",
      "Accuracy 0.475\n",
      "Validation 0.506\n",
      "Epoch  4, CIFAR-10 Batch 2:  Loss 1.22471\n",
      "Accuracy 0.55\n",
      "Validation 0.5048\n",
      "Epoch  4, CIFAR-10 Batch 3:  Loss 0.925171\n",
      "Accuracy 0.675\n",
      "Validation 0.5094\n",
      "Epoch  4, CIFAR-10 Batch 4:  Loss 1.23312\n",
      "Accuracy 0.575\n",
      "Validation 0.5156\n",
      "Epoch  4, CIFAR-10 Batch 5:  Loss 1.54294\n",
      "Accuracy 0.475\n",
      "Validation 0.5122\n",
      "Epoch  5, CIFAR-10 Batch 1:  Loss 1.48058\n",
      "Accuracy 0.525\n",
      "Validation 0.5198\n",
      "Epoch  5, CIFAR-10 Batch 2:  Loss 1.15082\n",
      "Accuracy 0.6\n",
      "Validation 0.5224\n",
      "Epoch  5, CIFAR-10 Batch 3:  Loss 0.876537\n",
      "Accuracy 0.7\n",
      "Validation 0.5316\n",
      "Epoch  5, CIFAR-10 Batch 4:  Loss 1.12681\n",
      "Accuracy 0.6\n",
      "Validation 0.5356\n",
      "Epoch  5, CIFAR-10 Batch 5:  Loss 1.34351\n",
      "Accuracy 0.55\n",
      "Validation 0.5432\n",
      "Epoch  6, CIFAR-10 Batch 1:  Loss 1.40437\n",
      "Accuracy 0.5\n",
      "Validation 0.5496\n",
      "Epoch  6, CIFAR-10 Batch 2:  Loss 1.08899\n",
      "Accuracy 0.575\n",
      "Validation 0.5386\n",
      "Epoch  6, CIFAR-10 Batch 3:  Loss 0.819337\n",
      "Accuracy 0.725\n",
      "Validation 0.5478\n",
      "Epoch  6, CIFAR-10 Batch 4:  Loss 1.14955\n",
      "Accuracy 0.5\n",
      "Validation 0.5444\n",
      "Epoch  6, CIFAR-10 Batch 5:  Loss 1.25644\n",
      "Accuracy 0.5\n",
      "Validation 0.5624\n",
      "Epoch  7, CIFAR-10 Batch 1:  Loss 1.31719\n",
      "Accuracy 0.55\n",
      "Validation 0.5548\n",
      "Epoch  7, CIFAR-10 Batch 2:  Loss 1.03542\n",
      "Accuracy 0.65\n",
      "Validation 0.5544\n",
      "Epoch  7, CIFAR-10 Batch 3:  Loss 0.815569\n",
      "Accuracy 0.7\n",
      "Validation 0.5656\n",
      "Epoch  7, CIFAR-10 Batch 4:  Loss 1.07673\n",
      "Accuracy 0.625\n",
      "Validation 0.5562\n",
      "Epoch  7, CIFAR-10 Batch 5:  Loss 1.20262\n",
      "Accuracy 0.55\n",
      "Validation 0.5718\n",
      "Epoch  8, CIFAR-10 Batch 1:  Loss 1.2917\n",
      "Accuracy 0.65\n",
      "Validation 0.5684\n",
      "Epoch  8, CIFAR-10 Batch 2:  Loss 0.971092\n",
      "Accuracy 0.625\n",
      "Validation 0.569\n",
      "Epoch  8, CIFAR-10 Batch 3:  Loss 0.748917\n",
      "Accuracy 0.725\n",
      "Validation 0.57\n",
      "Epoch  8, CIFAR-10 Batch 4:  Loss 1.04197\n",
      "Accuracy 0.575\n",
      "Validation 0.5648\n",
      "Epoch  8, CIFAR-10 Batch 5:  Loss 1.21654\n",
      "Accuracy 0.575\n",
      "Validation 0.5784\n",
      "Epoch  9, CIFAR-10 Batch 1:  Loss 1.16922\n",
      "Accuracy 0.675\n",
      "Validation 0.5782\n",
      "Epoch  9, CIFAR-10 Batch 2:  Loss 0.953641\n",
      "Accuracy 0.625\n",
      "Validation 0.574\n",
      "Epoch  9, CIFAR-10 Batch 3:  Loss 0.719838\n",
      "Accuracy 0.725\n",
      "Validation 0.5778\n",
      "Epoch  9, CIFAR-10 Batch 4:  Loss 0.987026\n",
      "Accuracy 0.575\n",
      "Validation 0.5794\n",
      "Epoch  9, CIFAR-10 Batch 5:  Loss 1.00425\n",
      "Accuracy 0.625\n",
      "Validation 0.5958\n",
      "Epoch 10, CIFAR-10 Batch 1:  Loss 1.12368\n",
      "Accuracy 0.65\n",
      "Validation 0.588\n",
      "Epoch 10, CIFAR-10 Batch 2:  Loss 0.886597\n",
      "Accuracy 0.625\n",
      "Validation 0.5808\n",
      "Epoch 10, CIFAR-10 Batch 3:  Loss 0.727178\n",
      "Accuracy 0.675\n",
      "Validation 0.5822\n",
      "Epoch 10, CIFAR-10 Batch 4:  Loss 0.969557\n",
      "Accuracy 0.625\n",
      "Validation 0.577\n",
      "Epoch 10, CIFAR-10 Batch 5:  Loss 1.0109\n",
      "Accuracy 0.675\n",
      "Validation 0.5906\n"
     ]
    }
   ],
   "source": [
    "save_model_path = './image_classification'\n",
    "\n",
    "print('Training...')\n",
    "with tf.Session() as sess:\n",
    "    # Initializing the variables\n",
    "    sess.run(tf.global_variables_initializer())\n",
    "    \n",
    "    # Training cycle\n",
    "    for epoch in range(epochs):\n",
    "        # Loop over all batches\n",
    "        n_batches = 5\n",
    "        for batch_i in range(1, n_batches + 1):\n",
    "            for batch_features, batch_labels in helper.load_preprocess_training_batch(batch_i, batch_size):\n",
    "                train_neural_network(sess, optimizer, keep_probability, batch_features, batch_labels)\n",
    "            print('Epoch {:>2}, CIFAR-10 Batch {}:  '.format(epoch + 1, batch_i), end='')\n",
    "            print_stats(sess, batch_features, batch_labels, cost, accuracy)\n",
    "            \n",
    "    # Save Model\n",
    "    saver = tf.train.Saver()\n",
    "    save_path = saver.save(sess, save_model_path)"
   ]
  },
  {
   "cell_type": "markdown",
   "metadata": {
    "deletable": true,
    "editable": true
   },
   "source": [
    "# Checkpoint\n",
    "The model has been saved to disk.\n",
    "## Test Model\n",
    "Test your model against the test dataset.  This will be your final accuracy. You should have an accuracy greater than 50%. If you don't, keep tweaking the model architecture and parameters."
   ]
  },
  {
   "cell_type": "code",
   "execution_count": 44,
   "metadata": {
    "collapsed": false,
    "deletable": true,
    "editable": true
   },
   "outputs": [
    {
     "name": "stdout",
     "output_type": "stream",
     "text": [
      "Testing Accuracy: 0.5997213375796179\n",
      "\n"
     ]
    },
    {
     "data": {
      "image/png": "[encoded data removed]",
      "text/plain": [
       "<matplotlib.figure.Figure at 0x25b811ebfd0>"
      ]
     },
     "metadata": {
      "image/png": {
       "height": 319,
       "width": 355
      }
     },
     "output_type": "display_data"
    }
   ],
   "source": [
    "%matplotlib inline\n",
    "%config InlineBackend.figure_format = 'retina'\n",
    "\n",
    "import tensorflow as tf\n",
    "import pickle\n",
    "import helper\n",
    "import random\n",
    "\n",
    "# Set batch size if not already set\n",
    "try:\n",
    "    if batch_size:\n",
    "        pass\n",
    "except NameError:\n",
    "    batch_size = 64\n",
    "\n",
    "save_model_path = './image_classification'\n",
    "n_samples = 4\n",
    "top_n_predictions = 3\n",
    "\n",
    "def test_model():\n",
    "    \"\"\"\n",
    "    Test the saved model against the test dataset\n",
    "    \"\"\"\n",
    "\n",
    "    test_features, test_labels = pickle.load(open('preprocess_training.p', mode='rb'))\n",
    "    loaded_graph = tf.Graph()\n",
    "\n",
    "    with tf.Session(graph=loaded_graph) as sess:\n",
    "        # Load model\n",
    "        loader = tf.train.import_meta_graph(save_model_path + '.meta')\n",
    "        loader.restore(sess, save_model_path)\n",
    "\n",
    "        # Get Tensors from loaded model\n",
    "        loaded_x = loaded_graph.get_tensor_by_name('x:0')\n",
    "        loaded_y = loaded_graph.get_tensor_by_name('y:0')\n",
    "        loaded_keep_prob = loaded_graph.get_tensor_by_name('keep_prob:0')\n",
    "        loaded_logits = loaded_graph.get_tensor_by_name('logits:0')\n",
    "        loaded_acc = loaded_graph.get_tensor_by_name('accuracy:0')\n",
    "        \n",
    "        # Get accuracy in batches for memory limitations\n",
    "        test_batch_acc_total = 0\n",
    "        test_batch_count = 0\n",
    "        \n",
    "        for train_feature_batch, train_label_batch in helper.batch_features_labels(test_features, test_labels, batch_size):\n",
    "            test_batch_acc_total += sess.run(\n",
    "                loaded_acc,\n",
    "                feed_dict={loaded_x: train_feature_batch, loaded_y: train_label_batch, loaded_keep_prob: 1.0})\n",
    "            test_batch_count += 1\n",
    "\n",
    "        print('Testing Accuracy: {}\\n'.format(test_batch_acc_total/test_batch_count))\n",
    "\n",
    "        # Print Random Samples\n",
    "        random_test_features, random_test_labels = tuple(zip(*random.sample(list(zip(test_features, test_labels)), n_samples)))\n",
    "        random_test_predictions = sess.run(\n",
    "            tf.nn.top_k(tf.nn.softmax(loaded_logits), top_n_predictions),\n",
    "            feed_dict={loaded_x: random_test_features, loaded_y: random_test_labels, loaded_keep_prob: 1.0})\n",
    "        helper.display_image_predictions(random_test_features, random_test_labels, random_test_predictions)\n",
    "\n",
    "\n",
    "test_model()"
   ]
  },
  {
   "cell_type": "markdown",
   "metadata": {
    "deletable": true,
    "editable": true
   },
   "source": [
    "## Why 50-80% Accuracy?\n",
    "You might be wondering why you can't get an accuracy any higher. First things first, 50% isn't bad for a simple CNN.  Pure guessing would get you 10% accuracy. However, you might notice people are getting scores [well above 80%](http://rodrigob.github.io/are_we_there_yet/build/classification_datasets_results.html#43494641522d3130).  That's because we haven't taught you all there is to know about neural networks. We still need to cover a few more techniques.\n",
    "## Submitting This Project\n",
    "When submitting this project, make sure to run all the cells before saving the notebook.  Save the notebook file as \"dlnd_image_classification.ipynb\" and save it as a HTML file under \"File\" -> \"Download as\".  Include the \"helper.py\" and \"problem_unittests.py\" files in your submission."
   ]
  }
 ],
 "metadata": {
  "kernelspec": {
   "display_name": "Python 3",
   "language": "python",
   "name": "python3"
  },
  "language_info": {
   "codemirror_mode": {
    "name": "ipython",
    "version": 3
   },
   "file_extension": ".py",
   "mimetype": "text/x-python",
   "name": "python",
   "nbconvert_exporter": "python",
   "pygments_lexer": "ipython3",
   "version": "3.5.3"
  }
 },
 "nbformat": 4,
 "nbformat_minor": 0
}
