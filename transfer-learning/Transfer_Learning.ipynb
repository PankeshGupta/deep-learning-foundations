{
 "cells": [
  {
   "cell_type": "markdown",
   "metadata": {},
   "source": [
    "# Transfer Learning\n",
    "\n",
    "Most of the time you won't want to train a whole convolutional network yourself. Modern ConvNets training on huge datasets like ImageNet take weeks on multiple GPUs. Instead, most people use a pretrained network either as a fixed feature extractor, or as an initial network to fine tune. In this notebook, you'll be using [VGGNet](https://arxiv.org/pdf/1409.1556.pdf) trained on the [ImageNet dataset](http://www.image-net.org/) as a feature extractor. Below is a diagram of the VGGNet architecture.\n",
    "\n",
    "<img src=\"assets/cnnarchitecture.jpg\" width=700px>\n",
    "\n",
    "VGGNet is great because it's simple and has great performance, coming in second in the ImageNet competition. The idea here is that we keep all the convolutional layers, but replace the final fully connected layers with our own classifier. This way we can use VGGNet as a feature extractor for our images then easily train a simple classifier on top of that. What we'll do is take the first fully connected layer with 4096 units, including thresholding with ReLUs. We can use those values as a code for each image, then build a classifier on top of those codes.\n",
    "\n",
    "You can read more about transfer learning from [the CS231n course notes](http://cs231n.github.io/transfer-learning/#tf).\n",
    "\n",
    "## Pretrained VGGNet\n",
    "\n",
    "We'll be using a pretrained network from https://github.com/machrisaa/tensorflow-vgg. Make sure to clone this repository to the directory you're working from. You'll also want to rename it so it has an underscore instead of a dash.\n",
    "\n",
    "```\n",
    "git clone https://github.com/machrisaa/tensorflow-vgg.git tensorflow_vgg\n",
    "```\n",
    "\n",
    "This is a really nice implementation of VGGNet, quite easy to work with. The network has already been trained and the parameters are available from this link. **You'll need to clone the repo into the folder containing this notebook.** Then download the parameter file using the next cell."
   ]
  },
  {
   "cell_type": "code",
   "execution_count": 1,
   "metadata": {
    "scrolled": true
   },
   "outputs": [
    {
     "name": "stdout",
     "output_type": "stream",
     "text": [
      "Parameter file already exists!\n"
     ]
    }
   ],
   "source": [
    "from urllib.request import urlretrieve\n",
    "from os.path import isfile, isdir\n",
    "from tqdm import tqdm\n",
    "\n",
    "vgg_dir = 'tensorflow_vgg/'\n",
    "# Make sure vgg exists\n",
    "if not isdir(vgg_dir):\n",
    "    raise Exception(\"VGG directory doesn't exist!\")\n",
    "\n",
    "class DLProgress(tqdm):\n",
    "    last_block = 0\n",
    "\n",
    "    def hook(self, block_num=1, block_size=1, total_size=None):\n",
    "        self.total = total_size\n",
    "        self.update((block_num - self.last_block) * block_size)\n",
    "        self.last_block = block_num\n",
    "\n",
    "if not isfile(vgg_dir + \"vgg16.npy\"):\n",
    "    with DLProgress(unit='B', unit_scale=True, miniters=1, desc='VGG16 Parameters') as pbar:\n",
    "        urlretrieve(\n",
    "            'https://s3.amazonaws.com/content.udacity-data.com/nd101/vgg16.npy',\n",
    "            vgg_dir + 'vgg16.npy',\n",
    "            pbar.hook)\n",
    "else:\n",
    "    print(\"Parameter file already exists!\")"
   ]
  },
  {
   "cell_type": "markdown",
   "metadata": {},
   "source": [
    "## Flower power\n",
    "\n",
    "Here we'll be using VGGNet to classify images of flowers. To get the flower dataset, run the cell below. This dataset comes from the [TensorFlow inception tutorial](https://www.tensorflow.org/tutorials/image_retraining)."
   ]
  },
  {
   "cell_type": "code",
   "execution_count": 2,
   "metadata": {
    "scrolled": true
   },
   "outputs": [],
   "source": [
    "import tarfile\n",
    "\n",
    "dataset_folder_path = 'flower_photos'\n",
    "\n",
    "class DLProgress(tqdm):\n",
    "    last_block = 0\n",
    "\n",
    "    def hook(self, block_num=1, block_size=1, total_size=None):\n",
    "        self.total = total_size\n",
    "        self.update((block_num - self.last_block) * block_size)\n",
    "        self.last_block = block_num\n",
    "\n",
    "if not isfile('flower_photos.tar.gz'):\n",
    "    with DLProgress(unit='B', unit_scale=True, miniters=1, desc='Flowers Dataset') as pbar:\n",
    "        urlretrieve(\n",
    "            'http://download.tensorflow.org/example_images/flower_photos.tgz',\n",
    "            'flower_photos.tar.gz',\n",
    "            pbar.hook)\n",
    "\n",
    "if not isdir(dataset_folder_path):\n",
    "    with tarfile.open('flower_photos.tar.gz') as tar:\n",
    "        tar.extractall()\n",
    "        tar.close()"
   ]
  },
  {
   "cell_type": "markdown",
   "metadata": {},
   "source": [
    "## ConvNet Codes\n",
    "\n",
    "Below, we'll run through all the images in our dataset and get codes for each of them. That is, we'll run the images through the VGGNet convolutional layers and record the values of the first fully connected layer. We can then write these to a file for later when we build our own classifier.\n",
    "\n",
    "Here we're using the `vgg16` module from `tensorflow_vgg`. The network takes images of size $224 \\times 224 \\times 3$ as input. Then it has 5 sets of convolutional layers. The network implemented here has this structure (copied from [the source code](https://github.com/machrisaa/tensorflow-vgg/blob/master/vgg16.py)):\n",
    "\n",
    "```\n",
    "self.conv1_1 = self.conv_layer(bgr, \"conv1_1\")\n",
    "self.conv1_2 = self.conv_layer(self.conv1_1, \"conv1_2\")\n",
    "self.pool1 = self.max_pool(self.conv1_2, 'pool1')\n",
    "\n",
    "self.conv2_1 = self.conv_layer(self.pool1, \"conv2_1\")\n",
    "self.conv2_2 = self.conv_layer(self.conv2_1, \"conv2_2\")\n",
    "self.pool2 = self.max_pool(self.conv2_2, 'pool2')\n",
    "\n",
    "self.conv3_1 = self.conv_layer(self.pool2, \"conv3_1\")\n",
    "self.conv3_2 = self.conv_layer(self.conv3_1, \"conv3_2\")\n",
    "self.conv3_3 = self.conv_layer(self.conv3_2, \"conv3_3\")\n",
    "self.pool3 = self.max_pool(self.conv3_3, 'pool3')\n",
    "\n",
    "self.conv4_1 = self.conv_layer(self.pool3, \"conv4_1\")\n",
    "self.conv4_2 = self.conv_layer(self.conv4_1, \"conv4_2\")\n",
    "self.conv4_3 = self.conv_layer(self.conv4_2, \"conv4_3\")\n",
    "self.pool4 = self.max_pool(self.conv4_3, 'pool4')\n",
    "\n",
    "self.conv5_1 = self.conv_layer(self.pool4, \"conv5_1\")\n",
    "self.conv5_2 = self.conv_layer(self.conv5_1, \"conv5_2\")\n",
    "self.conv5_3 = self.conv_layer(self.conv5_2, \"conv5_3\")\n",
    "self.pool5 = self.max_pool(self.conv5_3, 'pool5')\n",
    "\n",
    "self.fc6 = self.fc_layer(self.pool5, \"fc6\")\n",
    "self.relu6 = tf.nn.relu(self.fc6)\n",
    "```\n",
    "\n",
    "So what we want are the values of the first fully connected layer, after being ReLUd (`self.relu6`). To build the network, we use\n",
    "\n",
    "```\n",
    "with tf.Session() as sess:\n",
    "    vgg = vgg16.Vgg16()\n",
    "    input_ = tf.placeholder(tf.float32, [None, 224, 224, 3])\n",
    "    with tf.name_scope(\"content_vgg\"):\n",
    "        vgg.build(input_)\n",
    "```\n",
    "\n",
    "This creates the `vgg` object, then builds the graph with `vgg.build(input_)`. Then to get the values from the layer,\n",
    "\n",
    "```\n",
    "feed_dict = {input_: images}\n",
    "codes = sess.run(vgg.relu6, feed_dict=feed_dict)\n",
    "```"
   ]
  },
  {
   "cell_type": "code",
   "execution_count": 3,
   "metadata": {
    "collapsed": true,
    "scrolled": true
   },
   "outputs": [],
   "source": [
    "import os\n",
    "\n",
    "import numpy as np\n",
    "import tensorflow as tf\n",
    "\n",
    "from tensorflow_vgg import vgg16\n",
    "from tensorflow_vgg import utils"
   ]
  },
  {
   "cell_type": "code",
   "execution_count": 4,
   "metadata": {
    "scrolled": true
   },
   "outputs": [],
   "source": [
    "data_dir = 'flower_photos/'\n",
    "contents = os.listdir(data_dir)\n",
    "classes = [each for each in contents if os.path.isdir(data_dir + each)]"
   ]
  },
  {
   "cell_type": "markdown",
   "metadata": {},
   "source": [
    "Below I'm running images through the VGG network in batches.\n",
    "\n",
    "> **Exercise:** Below, build the VGG network. Also get the codes from the first fully connected layer (make sure you get the ReLUd values)."
   ]
  },
  {
   "cell_type": "code",
   "execution_count": 5,
   "metadata": {
    "scrolled": false
   },
   "outputs": [
    {
     "name": "stdout",
     "output_type": "stream",
     "text": [
      "C:\\Users\\Anthony\\Documents\\GitHub\\deep-learning-foundations\\transfer-learning\\tensorflow_vgg\\vgg16.npy\n",
      "npy file loaded\n",
      "build model started\n",
      "build model finished: 0s\n",
      "Starting daisy images\n",
      "32 images processed\n",
      "64 images processed\n",
      "96 images processed\n",
      "128 images processed\n",
      "160 images processed\n",
      "192 images processed\n",
      "224 images processed\n",
      "256 images processed\n",
      "288 images processed\n",
      "320 images processed\n",
      "352 images processed\n",
      "384 images processed\n",
      "416 images processed\n",
      "448 images processed\n",
      "480 images processed\n",
      "512 images processed\n",
      "544 images processed\n",
      "576 images processed\n",
      "608 images processed\n",
      "633 images processed\n",
      "Starting dandelion images\n",
      "32 images processed\n",
      "64 images processed\n",
      "96 images processed\n",
      "128 images processed\n",
      "160 images processed\n",
      "192 images processed\n",
      "224 images processed\n",
      "256 images processed\n",
      "288 images processed\n",
      "320 images processed\n",
      "352 images processed\n",
      "384 images processed\n",
      "416 images processed\n",
      "448 images processed\n",
      "480 images processed\n",
      "512 images processed\n",
      "544 images processed\n",
      "576 images processed\n",
      "608 images processed\n",
      "640 images processed\n",
      "672 images processed\n",
      "704 images processed\n",
      "736 images processed\n",
      "768 images processed\n",
      "800 images processed\n",
      "832 images processed\n",
      "864 images processed\n",
      "896 images processed\n",
      "898 images processed\n",
      "Starting roses images\n",
      "32 images processed\n",
      "64 images processed\n",
      "96 images processed\n",
      "128 images processed\n",
      "160 images processed\n",
      "192 images processed\n",
      "224 images processed\n",
      "256 images processed\n",
      "288 images processed\n",
      "320 images processed\n",
      "352 images processed\n",
      "384 images processed\n",
      "416 images processed\n",
      "448 images processed\n",
      "480 images processed\n",
      "512 images processed\n",
      "544 images processed\n",
      "576 images processed\n",
      "608 images processed\n",
      "640 images processed\n",
      "641 images processed\n",
      "Starting sunflowers images\n",
      "32 images processed\n",
      "64 images processed\n",
      "96 images processed\n",
      "128 images processed\n",
      "160 images processed\n",
      "192 images processed\n",
      "224 images processed\n",
      "256 images processed\n",
      "288 images processed\n",
      "320 images processed\n",
      "352 images processed\n",
      "384 images processed\n",
      "416 images processed\n",
      "448 images processed\n",
      "480 images processed\n",
      "512 images processed\n",
      "544 images processed\n",
      "576 images processed\n",
      "608 images processed\n",
      "640 images processed\n",
      "672 images processed\n",
      "699 images processed\n",
      "Starting tulips images\n",
      "32 images processed\n",
      "64 images processed\n",
      "96 images processed\n",
      "128 images processed\n",
      "160 images processed\n",
      "192 images processed\n",
      "224 images processed\n",
      "256 images processed\n",
      "288 images processed\n",
      "320 images processed\n",
      "352 images processed\n",
      "384 images processed\n",
      "416 images processed\n",
      "448 images processed\n",
      "480 images processed\n",
      "512 images processed\n",
      "544 images processed\n",
      "576 images processed\n",
      "608 images processed\n",
      "640 images processed\n",
      "672 images processed\n",
      "704 images processed\n",
      "736 images processed\n",
      "768 images processed\n",
      "799 images processed\n"
     ]
    }
   ],
   "source": [
    "# Set the batch size higher if you can fit in in your GPU memory\n",
    "batch_size = 32\n",
    "codes_list = []\n",
    "labels = []\n",
    "batch = []\n",
    "\n",
    "codes = None\n",
    "\n",
    "with tf.Session() as sess:\n",
    "    \n",
    "    my_vgg = vgg16.Vgg16()\n",
    "    \n",
    "    input_ = tf.placeholder(tf.float32, [None, 224, 224, 3])\n",
    "    \n",
    "    with tf.name_scope(\"content_vgg\"):\n",
    "        my_vgg.build(input_)\n",
    "        \n",
    "        \n",
    "    for each in classes:\n",
    "        \n",
    "        print(\"Starting {} images\".format(each))\n",
    "        class_path = data_dir + each\n",
    "        files = os.listdir(class_path)\n",
    "        for ii, file in enumerate(files, 1):\n",
    "            \n",
    "            # Add images to the current batch\n",
    "            # utils.load_image crops the input images for us, from the center\n",
    "            \n",
    "            img = utils.load_image(os.path.join(class_path, file))\n",
    "            batch.append(img.reshape((1, 224, 224, 3)))\n",
    "            labels.append(each)\n",
    "            \n",
    "            # Running the batch through the network to get the codes\n",
    "            if ii % batch_size == 0 or ii == len(files):\n",
    "                \n",
    "                # Image batch to pass to VGG network\n",
    "                images = np.concatenate(batch)\n",
    "                \n",
    "                # Get the values from the relu6 layer of the VGG network\n",
    "                \n",
    "                feed_dict = {input_ : images}\n",
    "                codes_batch = sess.run(my_vgg.relu6, feed_dict = feed_dict)\n",
    "                \n",
    "                # Here I'm building an array of the codes\n",
    "                if codes is None:\n",
    "                    codes = codes_batch\n",
    "                else:\n",
    "                    codes = np.concatenate((codes, codes_batch))\n",
    "                \n",
    "                # Reset to start building the next batch\n",
    "                batch = []\n",
    "                print('{} images processed'.format(ii))"
   ]
  },
  {
   "cell_type": "code",
   "execution_count": 6,
   "metadata": {
    "scrolled": true
   },
   "outputs": [],
   "source": [
    "# write codes to file\n",
    "with open('codes', 'w') as f:\n",
    "    codes.tofile(f)\n",
    "    \n",
    "# write labels to file\n",
    "import csv\n",
    "with open('labels', 'w') as f:\n",
    "    writer = csv.writer(f, delimiter='\\n')\n",
    "    writer.writerow(labels)"
   ]
  },
  {
   "cell_type": "markdown",
   "metadata": {},
   "source": [
    "## Building the Classifier\n",
    "\n",
    "Now that we have codes for all the images, we can build a simple classifier on top of them. The codes behave just like normal input into a simple neural network. Below I'm going to have you do most of the work."
   ]
  },
  {
   "cell_type": "code",
   "execution_count": 7,
   "metadata": {
    "scrolled": true
   },
   "outputs": [],
   "source": [
    "# read codes and labels from file\n",
    "import csv\n",
    "\n",
    "with open('labels') as f:\n",
    "    reader = csv.reader(f, delimiter='\\n')\n",
    "    labels = np.array([each for each in reader if len(each) > 0]).squeeze()\n",
    "with open('codes') as f:\n",
    "    codes = np.fromfile(f, dtype=np.float32)\n",
    "    codes = codes.reshape((len(labels), -1))"
   ]
  },
  {
   "cell_type": "markdown",
   "metadata": {},
   "source": [
    "### Data prep\n",
    "\n",
    "As usual, now we need to one-hot encode our labels and create validation/test sets. First up, creating our labels!\n",
    "\n",
    "> **Exercise:** From scikit-learn, use [LabelBinarizer](http://scikit-learn.org/stable/modules/generated/sklearn.preprocessing.LabelBinarizer.html) to create one-hot encoded vectors from the labels. "
   ]
  },
  {
   "cell_type": "code",
   "execution_count": 8,
   "metadata": {
    "scrolled": true
   },
   "outputs": [],
   "source": [
    "from sklearn.preprocessing import LabelBinarizer\n",
    "\n",
    "labelBinarizer = LabelBinarizer()\n",
    "\n",
    "labelBinarizer.fit(labels)\n",
    "\n",
    "labels_vecs = labelBinarizer.transform(labels)"
   ]
  },
  {
   "cell_type": "markdown",
   "metadata": {},
   "source": [
    "Now you'll want to create your training, validation, and test sets. An important thing to note here is that our labels and data aren't randomized yet. We'll want to shuffle our data so the validation and test sets contain data from all classes. Otherwise, you could end up with testing sets that are all one class. Typically, you'll also want to make sure that each smaller set has the same the distribution of classes as it is for the whole data set. The easiest way to accomplish both these goals is to use [`StratifiedShuffleSplit`](http://scikit-learn.org/stable/modules/generated/sklearn.model_selection.StratifiedShuffleSplit.html) from scikit-learn.\n",
    "\n",
    "You can create the splitter like so:\n",
    "```\n",
    "ss = StratifiedShuffleSplit(n_splits=1, test_size=0.2)\n",
    "```\n",
    "Then split the data with \n",
    "```\n",
    "splitter = ss.split(x, y)\n",
    "```\n",
    "\n",
    "`ss.split` returns a generator of indices. You can pass the indices into the arrays to get the split sets. The fact that it's a generator means you either need to iterate over it, or use `next(splitter)` to get the indices. Be sure to read the [documentation](http://scikit-learn.org/stable/modules/generated/sklearn.model_selection.StratifiedShuffleSplit.html) and the [user guide](http://scikit-learn.org/stable/modules/cross_validation.html#random-permutations-cross-validation-a-k-a-shuffle-split).\n",
    "\n",
    "> **Exercise:** Use StratifiedShuffleSplit to split the codes and labels into training, validation, and test sets."
   ]
  },
  {
   "cell_type": "code",
   "execution_count": 9,
   "metadata": {
    "scrolled": true
   },
   "outputs": [],
   "source": [
    "from sklearn.model_selection import StratifiedShuffleSplit\n",
    "\n",
    "sss = StratifiedShuffleSplit(n_splits=1, test_size=.2)\n",
    "\n",
    "i, j = next( sss.split(codes, labels) )\n",
    "\n",
    "h = len(j) // 2\n",
    "\n",
    "j, k = j[:h], j[h: ]   # Validation 50%\n",
    "# end j at half of j and start k at half of j\n",
    "\n",
    "train_x, train_y = codes[i], labels_vecs[i]\n",
    "val_x, val_y = codes[j], labels_vecs[j]\n",
    "test_x, test_y =  codes[k], labels_vecs[k]"
   ]
  },
  {
   "cell_type": "code",
   "execution_count": 10,
   "metadata": {
    "scrolled": true
   },
   "outputs": [
    {
     "name": "stdout",
     "output_type": "stream",
     "text": [
      "Train shapes (x, y): (2936, 4096) (2936, 5)\n",
      "Validation shapes (x, y): (367, 4096) (367, 5)\n",
      "Test shapes (x, y): (367, 4096) (367, 5)\n"
     ]
    }
   ],
   "source": [
    "print(\"Train shapes (x, y):\", train_x.shape, train_y.shape)\n",
    "print(\"Validation shapes (x, y):\", val_x.shape, val_y.shape)\n",
    "print(\"Test shapes (x, y):\", test_x.shape, test_y.shape)"
   ]
  },
  {
   "cell_type": "markdown",
   "metadata": {},
   "source": [
    "If you did it right, you should see these sizes for the training sets:\n",
    "\n",
    "```\n",
    "Train shapes (x, y): (2936, 4096) (2936, 5)\n",
    "Validation shapes (x, y): (367, 4096) (367, 5)\n",
    "Test shapes (x, y): (367, 4096) (367, 5)\n",
    "```"
   ]
  },
  {
   "cell_type": "markdown",
   "metadata": {},
   "source": [
    "### Classifier layers\n",
    "\n",
    "Once you have the convolutional codes, you just need to build a classfier from some fully connected layers. You use the codes as the inputs and the image labels as targets. Otherwise the classifier is a typical neural network.\n",
    "\n",
    "> **Exercise:** With the codes and labels loaded, build the classifier. Consider the codes as your inputs, each of them are 4096D vectors. You'll want to use a hidden layer and an output layer as your classifier. Remember that the output layer needs to have one unit for each class and a softmax activation function. Use the cross entropy to calculate the cost."
   ]
  },
  {
   "cell_type": "code",
   "execution_count": 11,
   "metadata": {
    "scrolled": true
   },
   "outputs": [],
   "source": [
    "inputs_ = tf.placeholder(tf.float32, shape=[None, codes.shape[1]])\n",
    "labels_ = tf.placeholder(tf.int64, shape=[None, labels_vecs.shape[1]])\n",
    "\n",
    "l_1 = tf.contrib.layers.fully_connected(inputs_, 256)\n",
    "\n",
    "logits = tf.contrib.layers.fully_connected(l_1, labels_vecs.shape[1], activation_fn=None)\n",
    "\n",
    "cross_entropy = tf.nn.softmax_cross_entropy_with_logits(labels=labels_, logits=logits)\n",
    "\n",
    "cost = tf.reduce_mean( cross_entropy )\n",
    "\n",
    "optimizer = tf.train.AdamOptimizer().minimize(cost)\n",
    "\n",
    "# Operations for validation/test accuracy\n",
    "predicted = tf.nn.softmax(logits)\n",
    "correct_pred = tf.equal(tf.argmax(predicted, 1), tf.argmax(labels_, 1))\n",
    "accuracy = tf.reduce_mean(tf.cast(correct_pred, tf.float32))"
   ]
  },
  {
   "cell_type": "markdown",
   "metadata": {},
   "source": [
    "### Batches!\n",
    "\n",
    "Here is just a simple way to do batches. I've written it so that it includes all the data. Sometimes you'll throw out some data at the end to make sure you have full batches. Here I just extend the last batch to include the remaining data."
   ]
  },
  {
   "cell_type": "code",
   "execution_count": 12,
   "metadata": {
    "scrolled": true
   },
   "outputs": [],
   "source": [
    "def get_batches(x, y, n_batches=10):\n",
    "    \"\"\" Return a generator that yields batches from arrays x and y. \"\"\"\n",
    "    batch_size = len(x)//n_batches\n",
    "    \n",
    "    for ii in range(0, n_batches*batch_size, batch_size):\n",
    "        # If we're not on the last batch, grab data with size batch_size\n",
    "        if ii != (n_batches-1)*batch_size:\n",
    "            X, Y = x[ii: ii+batch_size], y[ii: ii+batch_size] \n",
    "        # On the last batch, grab the rest of the data\n",
    "        else:\n",
    "            X, Y = x[ii:], y[ii:]\n",
    "        # I love generators\n",
    "        yield X, Y"
   ]
  },
  {
   "cell_type": "markdown",
   "metadata": {},
   "source": [
    "### Training\n",
    "\n",
    "Here, we'll train the network.\n",
    "\n",
    "> **Exercise:** So far we've been providing the training code for you. Here, I'm going to give you a bit more of a challenge and have you write the code to train the network. Of course, you'll be able to see my solution if you need help. Use the `get_batches` function I wrote before to get your batches like `for x, y in get_batches(train_x, train_y)`. Or write your own!"
   ]
  },
  {
   "cell_type": "code",
   "execution_count": 13,
   "metadata": {
    "collapsed": true
   },
   "outputs": [],
   "source": [
    "saver = tf.train.Saver()"
   ]
  },
  {
   "cell_type": "code",
   "execution_count": 30,
   "metadata": {
    "scrolled": true
   },
   "outputs": [
    {
     "name": "stdout",
     "output_type": "stream",
     "text": [
      "Epoch: 0 / 20 Iteration: 1 Train loss: 5.79400\n",
      "Epoch: 0 / 20 Iteration: 2 Train loss: 15.37738\n",
      "Epoch: 0 / 20 Iteration: 3 Train loss: 16.86608\n",
      "Epoch: 0 / 20 Iteration: 4 Train loss: 12.03363\n",
      "Epoch: 0 / 20 Iteration: 5 Train loss: 7.19821\n",
      "Epoch: 0 / 20 Iteration: 5  Validation Acc: 0.6594\n",
      "Epoch: 0 / 20 Iteration: 6 Train loss: 2.82134\n",
      "Epoch: 0 / 20 Iteration: 7 Train loss: 2.96322\n",
      "Epoch: 0 / 20 Iteration: 8 Train loss: 3.67236\n",
      "Epoch: 0 / 20 Iteration: 9 Train loss: 3.16198\n",
      "Epoch: 0 / 20 Iteration: 10 Train loss: 2.41240\n",
      "Epoch: 0 / 20 Iteration: 10  Validation Acc: 0.7302\n",
      "Epoch: 1 / 20 Iteration: 11 Train loss: 1.31189\n",
      "Epoch: 1 / 20 Iteration: 12 Train loss: 0.96772\n",
      "Epoch: 1 / 20 Iteration: 13 Train loss: 0.85511\n",
      "Epoch: 1 / 20 Iteration: 14 Train loss: 0.72209\n",
      "Epoch: 1 / 20 Iteration: 15 Train loss: 0.98749\n",
      "Epoch: 1 / 20 Iteration: 15  Validation Acc: 0.8038\n",
      "Epoch: 1 / 20 Iteration: 16 Train loss: 0.82456\n",
      "Epoch: 1 / 20 Iteration: 17 Train loss: 1.04381\n",
      "Epoch: 1 / 20 Iteration: 18 Train loss: 0.55632\n",
      "Epoch: 1 / 20 Iteration: 19 Train loss: 1.01295\n",
      "Epoch: 1 / 20 Iteration: 20 Train loss: 0.65951\n",
      "Epoch: 1 / 20 Iteration: 20  Validation Acc: 0.8420\n",
      "Epoch: 2 / 20 Iteration: 21 Train loss: 0.48814\n",
      "Epoch: 2 / 20 Iteration: 22 Train loss: 0.41124\n",
      "Epoch: 2 / 20 Iteration: 23 Train loss: 0.49473\n",
      "Epoch: 2 / 20 Iteration: 24 Train loss: 0.46525\n",
      "Epoch: 2 / 20 Iteration: 25 Train loss: 0.42053\n",
      "Epoch: 2 / 20 Iteration: 25  Validation Acc: 0.8665\n",
      "Epoch: 2 / 20 Iteration: 26 Train loss: 0.32808\n",
      "Epoch: 2 / 20 Iteration: 27 Train loss: 0.46633\n",
      "Epoch: 2 / 20 Iteration: 28 Train loss: 0.29944\n",
      "Epoch: 2 / 20 Iteration: 29 Train loss: 0.31682\n",
      "Epoch: 2 / 20 Iteration: 30 Train loss: 0.43971\n",
      "Epoch: 2 / 20 Iteration: 30  Validation Acc: 0.8583\n",
      "Epoch: 3 / 20 Iteration: 31 Train loss: 0.37118\n",
      "Epoch: 3 / 20 Iteration: 32 Train loss: 0.34355\n",
      "Epoch: 3 / 20 Iteration: 33 Train loss: 0.26404\n",
      "Epoch: 3 / 20 Iteration: 34 Train loss: 0.23805\n",
      "Epoch: 3 / 20 Iteration: 35 Train loss: 0.26232\n",
      "Epoch: 3 / 20 Iteration: 35  Validation Acc: 0.8856\n",
      "Epoch: 3 / 20 Iteration: 36 Train loss: 0.16899\n",
      "Epoch: 3 / 20 Iteration: 37 Train loss: 0.26726\n",
      "Epoch: 3 / 20 Iteration: 38 Train loss: 0.13321\n",
      "Epoch: 3 / 20 Iteration: 39 Train loss: 0.24080\n",
      "Epoch: 3 / 20 Iteration: 40 Train loss: 0.24639\n",
      "Epoch: 3 / 20 Iteration: 40  Validation Acc: 0.8774\n",
      "Epoch: 4 / 20 Iteration: 41 Train loss: 0.25916\n",
      "Epoch: 4 / 20 Iteration: 42 Train loss: 0.21711\n",
      "Epoch: 4 / 20 Iteration: 43 Train loss: 0.16792\n",
      "Epoch: 4 / 20 Iteration: 44 Train loss: 0.19045\n",
      "Epoch: 4 / 20 Iteration: 45 Train loss: 0.19943\n",
      "Epoch: 4 / 20 Iteration: 45  Validation Acc: 0.8828\n",
      "Epoch: 4 / 20 Iteration: 46 Train loss: 0.13909\n",
      "Epoch: 4 / 20 Iteration: 47 Train loss: 0.19349\n",
      "Epoch: 4 / 20 Iteration: 48 Train loss: 0.08728\n",
      "Epoch: 4 / 20 Iteration: 49 Train loss: 0.15784\n",
      "Epoch: 4 / 20 Iteration: 50 Train loss: 0.14407\n",
      "Epoch: 4 / 20 Iteration: 50  Validation Acc: 0.8747\n",
      "Epoch: 5 / 20 Iteration: 51 Train loss: 0.16691\n",
      "Epoch: 5 / 20 Iteration: 52 Train loss: 0.15592\n",
      "Epoch: 5 / 20 Iteration: 53 Train loss: 0.10617\n",
      "Epoch: 5 / 20 Iteration: 54 Train loss: 0.12340\n",
      "Epoch: 5 / 20 Iteration: 55 Train loss: 0.13059\n",
      "Epoch: 5 / 20 Iteration: 55  Validation Acc: 0.8828\n",
      "Epoch: 5 / 20 Iteration: 56 Train loss: 0.09720\n",
      "Epoch: 5 / 20 Iteration: 57 Train loss: 0.15139\n",
      "Epoch: 5 / 20 Iteration: 58 Train loss: 0.07105\n",
      "Epoch: 5 / 20 Iteration: 59 Train loss: 0.10495\n",
      "Epoch: 5 / 20 Iteration: 60 Train loss: 0.10024\n",
      "Epoch: 5 / 20 Iteration: 60  Validation Acc: 0.8883\n",
      "Epoch: 6 / 20 Iteration: 61 Train loss: 0.11800\n",
      "Epoch: 6 / 20 Iteration: 62 Train loss: 0.10859\n",
      "Epoch: 6 / 20 Iteration: 63 Train loss: 0.07579\n",
      "Epoch: 6 / 20 Iteration: 64 Train loss: 0.08784\n",
      "Epoch: 6 / 20 Iteration: 65 Train loss: 0.07921\n",
      "Epoch: 6 / 20 Iteration: 65  Validation Acc: 0.8965\n",
      "Epoch: 6 / 20 Iteration: 66 Train loss: 0.07022\n",
      "Epoch: 6 / 20 Iteration: 67 Train loss: 0.11188\n",
      "Epoch: 6 / 20 Iteration: 68 Train loss: 0.05231\n",
      "Epoch: 6 / 20 Iteration: 69 Train loss: 0.07455\n",
      "Epoch: 6 / 20 Iteration: 70 Train loss: 0.07150\n",
      "Epoch: 6 / 20 Iteration: 70  Validation Acc: 0.8910\n",
      "Epoch: 7 / 20 Iteration: 71 Train loss: 0.07612\n",
      "Epoch: 7 / 20 Iteration: 72 Train loss: 0.07964\n",
      "Epoch: 7 / 20 Iteration: 73 Train loss: 0.05859\n",
      "Epoch: 7 / 20 Iteration: 74 Train loss: 0.05713\n",
      "Epoch: 7 / 20 Iteration: 75 Train loss: 0.05559\n",
      "Epoch: 7 / 20 Iteration: 75  Validation Acc: 0.8910\n",
      "Epoch: 7 / 20 Iteration: 76 Train loss: 0.05134\n",
      "Epoch: 7 / 20 Iteration: 77 Train loss: 0.08500\n",
      "Epoch: 7 / 20 Iteration: 78 Train loss: 0.04086\n",
      "Epoch: 7 / 20 Iteration: 79 Train loss: 0.05215\n",
      "Epoch: 7 / 20 Iteration: 80 Train loss: 0.05321\n",
      "Epoch: 7 / 20 Iteration: 80  Validation Acc: 0.8965\n",
      "Epoch: 8 / 20 Iteration: 81 Train loss: 0.05470\n",
      "Epoch: 8 / 20 Iteration: 82 Train loss: 0.05781\n",
      "Epoch: 8 / 20 Iteration: 83 Train loss: 0.04607\n",
      "Epoch: 8 / 20 Iteration: 84 Train loss: 0.03999\n",
      "Epoch: 8 / 20 Iteration: 85 Train loss: 0.03811\n",
      "Epoch: 8 / 20 Iteration: 85  Validation Acc: 0.8965\n",
      "Epoch: 8 / 20 Iteration: 86 Train loss: 0.03817\n",
      "Epoch: 8 / 20 Iteration: 87 Train loss: 0.06339\n",
      "Epoch: 8 / 20 Iteration: 88 Train loss: 0.03113\n",
      "Epoch: 8 / 20 Iteration: 89 Train loss: 0.03848\n",
      "Epoch: 8 / 20 Iteration: 90 Train loss: 0.04092\n",
      "Epoch: 8 / 20 Iteration: 90  Validation Acc: 0.8992\n",
      "Epoch: 9 / 20 Iteration: 91 Train loss: 0.04368\n",
      "Epoch: 9 / 20 Iteration: 92 Train loss: 0.04182\n",
      "Epoch: 9 / 20 Iteration: 93 Train loss: 0.03435\n",
      "Epoch: 9 / 20 Iteration: 94 Train loss: 0.02918\n",
      "Epoch: 9 / 20 Iteration: 95 Train loss: 0.02972\n",
      "Epoch: 9 / 20 Iteration: 95  Validation Acc: 0.8992\n",
      "Epoch: 9 / 20 Iteration: 96 Train loss: 0.02979\n",
      "Epoch: 9 / 20 Iteration: 97 Train loss: 0.04767\n",
      "Epoch: 9 / 20 Iteration: 98 Train loss: 0.02516\n",
      "Epoch: 9 / 20 Iteration: 99 Train loss: 0.02889\n",
      "Epoch: 9 / 20 Iteration: 100 Train loss: 0.03337\n",
      "Epoch: 9 / 20 Iteration: 100  Validation Acc: 0.9046\n",
      "Epoch: 10 / 20 Iteration: 101 Train loss: 0.03614\n",
      "Epoch: 10 / 20 Iteration: 102 Train loss: 0.03108\n",
      "Epoch: 10 / 20 Iteration: 103 Train loss: 0.02750\n",
      "Epoch: 10 / 20 Iteration: 104 Train loss: 0.02213\n",
      "Epoch: 10 / 20 Iteration: 105 Train loss: 0.02328\n",
      "Epoch: 10 / 20 Iteration: 105  Validation Acc: 0.9019\n",
      "Epoch: 10 / 20 Iteration: 106 Train loss: 0.02346\n",
      "Epoch: 10 / 20 Iteration: 107 Train loss: 0.03698\n",
      "Epoch: 10 / 20 Iteration: 108 Train loss: 0.02063\n",
      "Epoch: 10 / 20 Iteration: 109 Train loss: 0.02353\n",
      "Epoch: 10 / 20 Iteration: 110 Train loss: 0.02565\n",
      "Epoch: 10 / 20 Iteration: 110  Validation Acc: 0.9046\n",
      "Epoch: 11 / 20 Iteration: 111 Train loss: 0.02968\n",
      "Epoch: 11 / 20 Iteration: 112 Train loss: 0.02485\n",
      "Epoch: 11 / 20 Iteration: 113 Train loss: 0.02154\n",
      "Epoch: 11 / 20 Iteration: 114 Train loss: 0.01755\n",
      "Epoch: 11 / 20 Iteration: 115 Train loss: 0.01983\n",
      "Epoch: 11 / 20 Iteration: 115  Validation Acc: 0.9074\n",
      "Epoch: 11 / 20 Iteration: 116 Train loss: 0.01962\n",
      "Epoch: 11 / 20 Iteration: 117 Train loss: 0.02899\n",
      "Epoch: 11 / 20 Iteration: 118 Train loss: 0.01629\n",
      "Epoch: 11 / 20 Iteration: 119 Train loss: 0.01901\n",
      "Epoch: 11 / 20 Iteration: 120 Train loss: 0.02166\n",
      "Epoch: 11 / 20 Iteration: 120  Validation Acc: 0.9074\n",
      "Epoch: 12 / 20 Iteration: 121 Train loss: 0.02402\n",
      "Epoch: 12 / 20 Iteration: 122 Train loss: 0.02049\n",
      "Epoch: 12 / 20 Iteration: 123 Train loss: 0.01732\n",
      "Epoch: 12 / 20 Iteration: 124 Train loss: 0.01425\n",
      "Epoch: 12 / 20 Iteration: 125 Train loss: 0.01512\n",
      "Epoch: 12 / 20 Iteration: 125  Validation Acc: 0.9074\n",
      "Epoch: 12 / 20 Iteration: 126 Train loss: 0.01641\n",
      "Epoch: 12 / 20 Iteration: 127 Train loss: 0.02350\n",
      "Epoch: 12 / 20 Iteration: 128 Train loss: 0.01408\n",
      "Epoch: 12 / 20 Iteration: 129 Train loss: 0.01638\n",
      "Epoch: 12 / 20 Iteration: 130 Train loss: 0.01869\n",
      "Epoch: 12 / 20 Iteration: 130  Validation Acc: 0.9074\n",
      "Epoch: 13 / 20 Iteration: 131 Train loss: 0.01947\n",
      "Epoch: 13 / 20 Iteration: 132 Train loss: 0.01678\n",
      "Epoch: 13 / 20 Iteration: 133 Train loss: 0.01469\n",
      "Epoch: 13 / 20 Iteration: 134 Train loss: 0.01174\n",
      "Epoch: 13 / 20 Iteration: 135 Train loss: 0.01331\n",
      "Epoch: 13 / 20 Iteration: 135  Validation Acc: 0.9101\n",
      "Epoch: 13 / 20 Iteration: 136 Train loss: 0.01388\n",
      "Epoch: 13 / 20 Iteration: 137 Train loss: 0.01848\n",
      "Epoch: 13 / 20 Iteration: 138 Train loss: 0.01205\n",
      "Epoch: 13 / 20 Iteration: 139 Train loss: 0.01387\n"
     ]
    },
    {
     "name": "stdout",
     "output_type": "stream",
     "text": [
      "Epoch: 13 / 20 Iteration: 140 Train loss: 0.01552\n",
      "Epoch: 13 / 20 Iteration: 140  Validation Acc: 0.9101\n",
      "Epoch: 14 / 20 Iteration: 141 Train loss: 0.01640\n",
      "Epoch: 14 / 20 Iteration: 142 Train loss: 0.01418\n",
      "Epoch: 14 / 20 Iteration: 143 Train loss: 0.01230\n",
      "Epoch: 14 / 20 Iteration: 144 Train loss: 0.01022\n",
      "Epoch: 14 / 20 Iteration: 145 Train loss: 0.01096\n",
      "Epoch: 14 / 20 Iteration: 145  Validation Acc: 0.9128\n",
      "Epoch: 14 / 20 Iteration: 146 Train loss: 0.01206\n",
      "Epoch: 14 / 20 Iteration: 147 Train loss: 0.01530\n",
      "Epoch: 14 / 20 Iteration: 148 Train loss: 0.01046\n",
      "Epoch: 14 / 20 Iteration: 149 Train loss: 0.01206\n",
      "Epoch: 14 / 20 Iteration: 150 Train loss: 0.01327\n",
      "Epoch: 14 / 20 Iteration: 150  Validation Acc: 0.9101\n",
      "Epoch: 15 / 20 Iteration: 151 Train loss: 0.01350\n",
      "Epoch: 15 / 20 Iteration: 152 Train loss: 0.01205\n",
      "Epoch: 15 / 20 Iteration: 153 Train loss: 0.01062\n",
      "Epoch: 15 / 20 Iteration: 154 Train loss: 0.00867\n",
      "Epoch: 15 / 20 Iteration: 155 Train loss: 0.00945\n",
      "Epoch: 15 / 20 Iteration: 155  Validation Acc: 0.9101\n",
      "Epoch: 15 / 20 Iteration: 156 Train loss: 0.01036\n",
      "Epoch: 15 / 20 Iteration: 157 Train loss: 0.01297\n",
      "Epoch: 15 / 20 Iteration: 158 Train loss: 0.00907\n",
      "Epoch: 15 / 20 Iteration: 159 Train loss: 0.01052\n",
      "Epoch: 15 / 20 Iteration: 160 Train loss: 0.01136\n",
      "Epoch: 15 / 20 Iteration: 160  Validation Acc: 0.9128\n",
      "Epoch: 16 / 20 Iteration: 161 Train loss: 0.01173\n",
      "Epoch: 16 / 20 Iteration: 162 Train loss: 0.01051\n",
      "Epoch: 16 / 20 Iteration: 163 Train loss: 0.00931\n",
      "Epoch: 16 / 20 Iteration: 164 Train loss: 0.00768\n",
      "Epoch: 16 / 20 Iteration: 165 Train loss: 0.00817\n",
      "Epoch: 16 / 20 Iteration: 165  Validation Acc: 0.9128\n",
      "Epoch: 16 / 20 Iteration: 166 Train loss: 0.00911\n",
      "Epoch: 16 / 20 Iteration: 167 Train loss: 0.01111\n",
      "Epoch: 16 / 20 Iteration: 168 Train loss: 0.00820\n",
      "Epoch: 16 / 20 Iteration: 169 Train loss: 0.00932\n",
      "Epoch: 16 / 20 Iteration: 170 Train loss: 0.00977\n",
      "Epoch: 16 / 20 Iteration: 170  Validation Acc: 0.9101\n",
      "Epoch: 17 / 20 Iteration: 171 Train loss: 0.00994\n",
      "Epoch: 17 / 20 Iteration: 172 Train loss: 0.00913\n",
      "Epoch: 17 / 20 Iteration: 173 Train loss: 0.00813\n",
      "Epoch: 17 / 20 Iteration: 174 Train loss: 0.00689\n",
      "Epoch: 17 / 20 Iteration: 175 Train loss: 0.00709\n",
      "Epoch: 17 / 20 Iteration: 175  Validation Acc: 0.9101\n",
      "Epoch: 17 / 20 Iteration: 176 Train loss: 0.00808\n",
      "Epoch: 17 / 20 Iteration: 177 Train loss: 0.00968\n",
      "Epoch: 17 / 20 Iteration: 178 Train loss: 0.00712\n",
      "Epoch: 17 / 20 Iteration: 179 Train loss: 0.00822\n",
      "Epoch: 17 / 20 Iteration: 180 Train loss: 0.00862\n",
      "Epoch: 17 / 20 Iteration: 180  Validation Acc: 0.9101\n",
      "Epoch: 18 / 20 Iteration: 181 Train loss: 0.00862\n",
      "Epoch: 18 / 20 Iteration: 182 Train loss: 0.00782\n",
      "Epoch: 18 / 20 Iteration: 183 Train loss: 0.00720\n",
      "Epoch: 18 / 20 Iteration: 184 Train loss: 0.00612\n",
      "Epoch: 18 / 20 Iteration: 185 Train loss: 0.00629\n",
      "Epoch: 18 / 20 Iteration: 185  Validation Acc: 0.9128\n",
      "Epoch: 18 / 20 Iteration: 186 Train loss: 0.00714\n",
      "Epoch: 18 / 20 Iteration: 187 Train loss: 0.00852\n",
      "Epoch: 18 / 20 Iteration: 188 Train loss: 0.00634\n",
      "Epoch: 18 / 20 Iteration: 189 Train loss: 0.00740\n",
      "Epoch: 18 / 20 Iteration: 190 Train loss: 0.00754\n",
      "Epoch: 18 / 20 Iteration: 190  Validation Acc: 0.9101\n",
      "Epoch: 19 / 20 Iteration: 191 Train loss: 0.00780\n",
      "Epoch: 19 / 20 Iteration: 192 Train loss: 0.00692\n",
      "Epoch: 19 / 20 Iteration: 193 Train loss: 0.00635\n",
      "Epoch: 19 / 20 Iteration: 194 Train loss: 0.00556\n",
      "Epoch: 19 / 20 Iteration: 195 Train loss: 0.00558\n",
      "Epoch: 19 / 20 Iteration: 195  Validation Acc: 0.9155\n",
      "Epoch: 19 / 20 Iteration: 196 Train loss: 0.00637\n",
      "Epoch: 19 / 20 Iteration: 197 Train loss: 0.00751\n",
      "Epoch: 19 / 20 Iteration: 198 Train loss: 0.00575\n",
      "Epoch: 19 / 20 Iteration: 199 Train loss: 0.00666\n",
      "Epoch: 19 / 20 Iteration: 200 Train loss: 0.00667\n",
      "Epoch: 19 / 20 Iteration: 200  Validation Acc: 0.9155\n"
     ]
    }
   ],
   "source": [
    "e = 20\n",
    "iteration = 0\n",
    "\n",
    "with tf.Session() as sess:\n",
    "    \n",
    "    # 1. Start session\n",
    "    sess.run(tf.global_variables_initializer() )\n",
    "    \n",
    "    # 2. Do each epoch\n",
    "    for i in range(e):\n",
    "        \n",
    "        #3. Do each batch\n",
    "        for x, y in get_batches(train_x, train_y):\n",
    "            \n",
    "            #4. Input data\n",
    "            feed = {inputs_: x, labels_: y}\n",
    "                        \n",
    "            #5. Do loss\n",
    "            loss, _ = sess.run([cost, optimizer], feed_dict=feed)\n",
    "            \n",
    "            #6. Increment counter \n",
    "            iteration += 1\n",
    "            \n",
    "            #7. Print results\n",
    "            print(\"Epoch: {} / {}\".format( i, e),\n",
    "                 \"Iteration: {}\".format( iteration ),\n",
    "                 \"Train loss: {:.5f}\".format( loss ))\n",
    "            \n",
    "            #8. Do Validation\n",
    "            if iteration % 5 == 0:\n",
    "                feed = {inputs_: val_x, labels_: val_y}\n",
    "            \n",
    "                val_acc = sess.run(accuracy, feed_dict=feed)\n",
    "                \n",
    "                print(\"Epoch: {} / {}\".format( i, e),\n",
    "                 \"Iteration: {} \".format( iteration),\n",
    "                 \"Validation Acc: {:.4f}\".format(val_acc) )\n",
    "        \n",
    "    saver.save(sess, \"checkpoints/flowers.ckpt\")"
   ]
  },
  {
   "cell_type": "markdown",
   "metadata": {},
   "source": [
    "### Testing\n",
    "\n",
    "Below you see the test accuracy. You can also see the predictions returned for images."
   ]
  },
  {
   "cell_type": "code",
   "execution_count": 31,
   "metadata": {
    "scrolled": true
   },
   "outputs": [
    {
     "name": "stdout",
     "output_type": "stream",
     "text": [
      "INFO:tensorflow:Restoring parameters from checkpoints\\flowers.ckpt\n",
      "Test accuracy: 0.8828\n"
     ]
    }
   ],
   "source": [
    "with tf.Session() as sess:\n",
    "    saver.restore(sess, tf.train.latest_checkpoint('checkpoints'))\n",
    "    \n",
    "    feed = {inputs_: test_x,\n",
    "            labels_: test_y}\n",
    "    test_acc = sess.run(accuracy, feed_dict=feed)\n",
    "    print(\"Test accuracy: {:.4f}\".format(test_acc))"
   ]
  },
  {
   "cell_type": "code",
   "execution_count": 32,
   "metadata": {
    "collapsed": true,
    "scrolled": true
   },
   "outputs": [],
   "source": [
    "%matplotlib inline\n",
    "\n",
    "import matplotlib.pyplot as plt\n",
    "from scipy.ndimage import imread"
   ]
  },
  {
   "cell_type": "markdown",
   "metadata": {},
   "source": [
    "Below, feel free to choose images and see how the trained classifier predicts the flowers in them."
   ]
  },
  {
   "cell_type": "code",
   "execution_count": 33,
   "metadata": {
    "scrolled": true
   },
   "outputs": [
    {
     "name": "stdout",
     "output_type": "stream",
     "text": [
      "\"vgg\" object already exists.  Will not create again.\n"
     ]
    }
   ],
   "source": [
    "# Run this cell if you don't have a vgg graph built\n",
    "if 'my_vgg' in globals():\n",
    "    print('\"vgg\" object already exists.  Will not create again.')\n",
    "else:\n",
    "    #create vgg\n",
    "    with tf.Session() as sess:\n",
    "        input_ = tf.placeholder(tf.float32, [None, 224, 224, 3])\n",
    "        vgg = vgg16.Vgg16()\n",
    "        vgg.build(input_)"
   ]
  },
  {
   "cell_type": "code",
   "execution_count": 37,
   "metadata": {
    "scrolled": false
   },
   "outputs": [
    {
     "data": {
      "text/plain": [
       "<matplotlib.image.AxesImage at 0x21f3ef0d438>"
      ]
     },
     "execution_count": 37,
     "metadata": {},
     "output_type": "execute_result"
    },
    {
     "data": {
      "image/png": "[encoded data removed]",
      "text/plain": [
       "<matplotlib.figure.Figure at 0x21f3b3510b8>"
      ]
     },
     "metadata": {},
     "output_type": "display_data"
    }
   ],
   "source": [
    "test_img_path = 'flower_photos/daisy/5547758_eea9edfd54_n.jpg'\n",
    "test_img = imread(test_img_path)\n",
    "plt.imshow(test_img)"
   ]
  },
  {
   "cell_type": "code",
   "execution_count": 41,
   "metadata": {
    "scrolled": true
   },
   "outputs": [
    {
     "name": "stdout",
     "output_type": "stream",
     "text": [
      "INFO:tensorflow:Restoring parameters from checkpoints\\flowers.ckpt\n",
      "0.199990797043\n"
     ]
    }
   ],
   "source": [
    "with tf.Session() as sess:\n",
    "    img = utils.load_image(test_img_path)\n",
    "    img = img.reshape((1, 224, 224, 3))\n",
    "\n",
    "    feed_dict = {input_: img}\n",
    "    code = sess.run(my_vgg.relu6, feed_dict=feed_dict)\n",
    "        \n",
    "saver = tf.train.Saver()\n",
    "with tf.Session() as sess:\n",
    "    saver.restore(sess, tf.train.latest_checkpoint('checkpoints'))\n",
    "    \n",
    "    feed = {inputs_: code}\n",
    "    prediction = sess.run(predicted, feed_dict=feed).squeeze()"
   ]
  },
  {
   "cell_type": "code",
   "execution_count": 44,
   "metadata": {
    "scrolled": true
   },
   "outputs": [
    {
     "name": "stdout",
     "output_type": "stream",
     "text": [
      "0.999954\n"
     ]
    },
    {
     "data": {
      "image/png": "[encoded data removed]",
      "text/plain": [
       "<matplotlib.figure.Figure at 0x21f3fb78ac8>"
      ]
     },
     "metadata": {},
     "output_type": "display_data"
    }
   ],
   "source": [
    "print(max(prediction))\n",
    "plt.barh(np.arange(5), prediction)\n",
    "\n",
    "_ = plt.yticks(np.arange(5), labelBinarizer.classes_)"
   ]
  },
  {
   "cell_type": "code",
   "execution_count": null,
   "metadata": {
    "collapsed": true,
    "scrolled": true
   },
   "outputs": [],
   "source": []
  }
 ],
 "metadata": {
  "kernelspec": {
   "display_name": "Python [default]",
   "language": "python",
   "name": "python3"
  },
  "language_info": {
   "codemirror_mode": {
    "name": "ipython",
    "version": 3
   },
   "file_extension": ".py",
   "mimetype": "text/x-python",
   "name": "python",
   "nbconvert_exporter": "python",
   "pygments_lexer": "ipython3",
   "version": "3.5.2"
  }
 },
 "nbformat": 4,
 "nbformat_minor": 2
}
