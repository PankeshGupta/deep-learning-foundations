{
 "cells": [
  {
   "cell_type": "markdown",
   "metadata": {},
   "source": [
    "# Deep Q-learning\n",
    "\n",
    "In this notebook, we'll build a neural network that can learn to play games through reinforcement learning. More specifically, we'll use Q-learning to train an agent to play a game called [Cart-Pole](https://gym.openai.com/envs/CartPole-v0). In this game, a freely swinging pole is attached to a cart. The cart can move to the left and right, and the goal is to keep the pole upright as long as possible.\n",
    "\n",
    "![Cart-Pole](assets/cart-pole.jpg)\n",
    "\n",
    "We can simulate this game using [OpenAI Gym](https://gym.openai.com/). First, let's check out how OpenAI Gym works. Then, we'll get into training an agent to play the Cart-Pole game."
   ]
  },
  {
   "cell_type": "code",
   "execution_count": 1,
   "metadata": {
    "collapsed": true
   },
   "outputs": [],
   "source": [
    "import gym\n",
    "import tensorflow as tf\n",
    "import numpy as np"
   ]
  },
  {
   "cell_type": "markdown",
   "metadata": {},
   "source": [
    ">**Note:** Make sure you have OpenAI Gym cloned into the same directory with this notebook. I've included `gym` as a submodule, so you can run `git submodule --init --recursive` to pull the contents into the `gym` repo."
   ]
  },
  {
   "cell_type": "code",
   "execution_count": 2,
   "metadata": {
    "collapsed": false
   },
   "outputs": [
    {
     "name": "stderr",
     "output_type": "stream",
     "text": [
      "[2017-06-19 14:59:55,263] Making new env: CartPole-v0\n"
     ]
    }
   ],
   "source": [
    "# Create the Cart-Pole game environment\n",
    "env = gym.make('CartPole-v0')"
   ]
  },
  {
   "cell_type": "markdown",
   "metadata": {},
   "source": [
    "We interact with the simulation through `env`. To show the simulation running, you can use `env.render()` to render one frame. Passing in an action as an integer to `env.step` will generate the next step in the simulation.  You can see how many actions are possible from `env.action_space` and to get a random action you can use `env.action_space.sample()`. This is general to all Gym games. In the Cart-Pole game, there are two possible actions, moving the cart left or right. So there are two actions we can take, encoded as 0 and 1.\n",
    "\n",
    "Run the code below to watch the simulation run."
   ]
  },
  {
   "cell_type": "code",
   "execution_count": 3,
   "metadata": {
    "collapsed": true
   },
   "outputs": [],
   "source": [
    "env.reset()     # why here?  clears old envrionment?  \n",
    "rewards = []    # why here? we will be printing rewards later\n",
    "\n",
    "for _ in range(100):\n",
    "    \n",
    "    # env.render()  # we want a human friendly rendering\n",
    "    \n",
    "    # why here? we want to actually step through our enviornment \n",
    "    \n",
    "    state, reward, done, info = env.step(env.action_space.sample()) # take a random action\n",
    "    \n",
    "    # for tracking later\n",
    "    rewards.append(reward)\n",
    "    \n",
    "    if done:\n",
    "        rewards = []\n",
    "        env.reset()"
   ]
  },
  {
   "cell_type": "markdown",
   "metadata": {},
   "source": [
    "To shut the window showing the simulation, use `env.close()`."
   ]
  },
  {
   "cell_type": "code",
   "execution_count": 4,
   "metadata": {
    "collapsed": true
   },
   "outputs": [],
   "source": [
    "env.close()"
   ]
  },
  {
   "cell_type": "markdown",
   "metadata": {},
   "source": [
    "If you ran the simulation above, we can look at the rewards:"
   ]
  },
  {
   "cell_type": "code",
   "execution_count": 5,
   "metadata": {
    "collapsed": false
   },
   "outputs": [
    {
     "name": "stdout",
     "output_type": "stream",
     "text": [
      "[]\n"
     ]
    }
   ],
   "source": [
    "print(rewards[-20:])"
   ]
  },
  {
   "cell_type": "markdown",
   "metadata": {},
   "source": [
    "The game resets after the pole has fallen past a certain angle. For each frame while the simulation is running, it returns a reward of 1.0. The longer the game runs, the more reward we get. Then, our network's goal is to maximize the reward by keeping the pole vertical. It will do this by moving the cart to the left and the right."
   ]
  },
  {
   "cell_type": "markdown",
   "metadata": {},
   "source": [
    "## Q-Network\n",
    "\n",
    "We train our Q-learning agent using the Bellman Equation:\n",
    "\n",
    "$$\n",
    "Q(s, a) = r + \\gamma \\max{Q(s', a')}\n",
    "$$\n",
    "\n",
    "where $s$ is a state, $a$ is an action, and $s'$ is the next state from state $s$ and action $a$.\n",
    "\n",
    "Before we used this equation to learn values for a Q-_table_. However, for this game there are a huge number of states available. The state has four values: the position and velocity of the cart, and the position and velocity of the pole. These are all real-valued numbers, so ignoring floating point precisions, you practically have infinite states. Instead of using a table then, we'll replace it with a neural network that will approximate the Q-table lookup function.\n",
    "\n",
    "<img src=\"assets/deep-q-learning.png\" width=450px>\n",
    "\n",
    "Now, our Q value, $Q(s, a)$ is calculated by passing in a state to the network. The output will be Q-values for each available action, with fully connected hidden layers.\n",
    "\n",
    "<img src=\"assets/q-network.png\" width=550px>\n",
    "\n",
    "\n",
    "As I showed before, we can define our targets for training as $\\hat{Q}(s,a) = r + \\gamma \\max{Q(s', a')}$. Then we update the weights by minimizing $(\\hat{Q}(s,a) - Q(s,a))^2$. \n",
    "\n",
    "For this Cart-Pole game, we have four inputs, one for each value in the state, and two outputs, one for each action. To get $\\hat{Q}$, we'll first choose an action, then simulate the game using that action. This will get us the next state, $s'$, and the reward. With that, we can calculate $\\hat{Q}$ then pass it back into the $Q$ network to run the optimizer and update the weights.\n",
    "\n",
    "Below is my implementation of the Q-network. I used two fully connected layers with ReLU activations. Two seems to be good enough, three might be better. Feel free to try it out."
   ]
  },
  {
   "cell_type": "code",
   "execution_count": 6,
   "metadata": {
    "collapsed": true
   },
   "outputs": [],
   "source": [
    "class QNetwork:\n",
    "    def __init__(self, learning_rate=0.01, state_size=4, \n",
    "                 action_size=2, hidden_size=10, \n",
    "                 name='QNetwork'):\n",
    "        \n",
    "        # state inputs to the Q-network\n",
    "        with tf.variable_scope(name):\n",
    "            \n",
    "            self.inputs_ = tf.placeholder(tf.float32, [None, state_size], name='inputs')\n",
    "            \n",
    "            # One hot encode the actions to later choose the Q-value for the action\n",
    "            self.actions_ = tf.placeholder(tf.int32, [None], name='actions')\n",
    "            one_hot_actions = tf.one_hot(self.actions_, action_size)\n",
    "            \n",
    "            # Target Q values for training\n",
    "            self.targetQs_ = tf.placeholder(tf.float32, [None], name='target')\n",
    "            \n",
    "            # ReLU hidden layers\n",
    "            self.fc1 = tf.contrib.layers.fully_connected(self.inputs_, hidden_size)\n",
    "            self.fc2 = tf.contrib.layers.fully_connected(self.fc1, hidden_size)\n",
    "\n",
    "            # Linear output layer\n",
    "            self.output = tf.contrib.layers.fully_connected(self.fc2, action_size, \n",
    "                                                            activation_fn=None)\n",
    "            \n",
    "            ### Train with loss (targetQ - Q)^2\n",
    "            # output has length 2, for two actions. This next line chooses\n",
    "            # one value from output (per row) according to the one-hot encoded actions.\n",
    "            self.Q = tf.reduce_sum(tf.multiply(self.output, one_hot_actions), axis=1)\n",
    "            \n",
    "            self.loss = tf.reduce_mean(tf.square(self.targetQs_ - self.Q))\n",
    "            self.opt = tf.train.AdamOptimizer(learning_rate).minimize(self.loss)"
   ]
  },
  {
   "cell_type": "markdown",
   "metadata": {},
   "source": [
    "## Experience replay\n",
    "\n",
    "Reinforcement learning algorithms can have stability issues due to correlations between states. To reduce correlations when training, we can store the agent's experiences and later draw a random mini-batch of those experiences to train on. \n",
    "\n",
    "Here, we'll create a `Memory` object that will store our experiences, our transitions $<s, a, r, s'>$. This memory will have a maxmium capacity, so we can keep newer experiences in memory while getting rid of older experiences. Then, we'll sample a random mini-batch of transitions $<s, a, r, s'>$ and train on those.\n",
    "\n",
    "Below, I've implemented a `Memory` object. If you're unfamiliar with `deque`, this is a double-ended queue. You can think of it like a tube open on both sides. You can put objects in either side of the tube. But if it's full, adding anything more will push an object out the other side. This is a great data structure to use for the memory buffer."
   ]
  },
  {
   "cell_type": "code",
   "execution_count": 7,
   "metadata": {
    "collapsed": true
   },
   "outputs": [],
   "source": [
    "from collections import deque\n",
    "class Memory():\n",
    "    def __init__(self, max_size = 1000):\n",
    "        self.buffer = deque(maxlen=max_size)\n",
    "    \n",
    "    def add(self, experience):\n",
    "        self.buffer.append(experience)\n",
    "            \n",
    "    def sample(self, batch_size):\n",
    "        idx = np.random.choice(np.arange(len(self.buffer)), \n",
    "                               size=batch_size, \n",
    "                               replace=False)\n",
    "        return [self.buffer[ii] for ii in idx]"
   ]
  },
  {
   "cell_type": "markdown",
   "metadata": {},
   "source": [
    "## Exploration - Exploitation\n",
    "\n",
    "To learn about the environment and rules of the game, the agent needs to explore by taking random actions. We'll do this by choosing a random action with some probability $\\epsilon$ (epsilon).  That is, with some probability $\\epsilon$ the agent will make a random action and with probability $1 - \\epsilon$, the agent will choose an action from $Q(s,a)$. This is called an **$\\epsilon$-greedy policy**.\n",
    "\n",
    "\n",
    "At first, the agent needs to do a lot of exploring. Later when it has learned more, the agent can favor choosing actions based on what it has learned. This is called _exploitation_. We'll set it up so the agent is more likely to explore early in training, then more likely to exploit later in training."
   ]
  },
  {
   "cell_type": "markdown",
   "metadata": {},
   "source": [
    "## Q-Learning training algorithm\n",
    "\n",
    "Putting all this together, we can list out the algorithm we'll use to train the network. We'll train the network in _episodes_. One *episode* is one simulation of the game. For this game, the goal is to keep the pole upright for 195 frames. So we can start a new episode once meeting that goal. The game ends if the pole tilts over too far, or if the cart moves too far the left or right. When a game ends, we'll start a new episode. Now, to train the agent:\n",
    "\n",
    "* Initialize the memory $D$\n",
    "* Initialize the action-value network $Q$ with random weights\n",
    "* **For** episode = 1, $M$ **do**\n",
    "  * **For** $t$, $T$ **do**\n",
    "     * With probability $\\epsilon$ select a random action $a_t$, otherwise select $a_t = \\mathrm{argmax}_a Q(s,a)$\n",
    "     * Execute action $a_t$ in simulator and observe reward $r_{t+1}$ and new state $s_{t+1}$\n",
    "     * Store transition $<s_t, a_t, r_{t+1}, s_{t+1}>$ in memory $D$\n",
    "     * Sample random mini-batch from $D$: $<s_j, a_j, r_j, s'_j>$\n",
    "     * Set $\\hat{Q}_j = r_j$ if the episode ends at $j+1$, otherwise set $\\hat{Q}_j = r_j + \\gamma \\max_{a'}{Q(s'_j, a')}$\n",
    "     * Make a gradient descent step with loss $(\\hat{Q}_j - Q(s_j, a_j))^2$\n",
    "  * **endfor**\n",
    "* **endfor**"
   ]
  },
  {
   "cell_type": "markdown",
   "metadata": {},
   "source": [
    "## Hyperparameters\n",
    "\n",
    "One of the more difficult aspects of reinforcememt learning are the large number of hyperparameters. Not only are we tuning the network, but we're tuning the simulation."
   ]
  },
  {
   "cell_type": "code",
   "execution_count": 8,
   "metadata": {
    "collapsed": true
   },
   "outputs": [],
   "source": [
    "train_episodes = 1000          # max number of episodes to learn from\n",
    "max_steps = 200                # max steps in an episode\n",
    "gamma = 0.99                   # future reward discount\n",
    "\n",
    "# Exploration parameters\n",
    "explore_start = 1.0            # exploration probability at start\n",
    "explore_stop = 0.01            # minimum exploration probability \n",
    "decay_rate = 0.0001            # exponential decay rate for exploration prob\n",
    "\n",
    "# Network parameters\n",
    "hidden_size = 64               # number of units in each Q-network hidden layer\n",
    "learning_rate = 0.0001         # Q-network learning rate\n",
    "\n",
    "# Memory parameters\n",
    "memory_size = 10000            # memory capacity\n",
    "batch_size = 20                # experience mini-batch size\n",
    "pretrain_length = batch_size   # number experiences to pretrain the memory"
   ]
  },
  {
   "cell_type": "code",
   "execution_count": 9,
   "metadata": {
    "collapsed": true
   },
   "outputs": [],
   "source": [
    "tf.reset_default_graph()\n",
    "mainQN = QNetwork(name='main', hidden_size=hidden_size, learning_rate=learning_rate)"
   ]
  },
  {
   "cell_type": "markdown",
   "metadata": {},
   "source": [
    "## Populate the experience memory\n",
    "\n",
    "Here I'm re-initializing the simulation and pre-populating the memory. The agent is taking random actions and storing the transitions in memory. This will help the agent with exploring the game."
   ]
  },
  {
   "cell_type": "code",
   "execution_count": 10,
   "metadata": {
    "collapsed": false
   },
   "outputs": [],
   "source": [
    "# Initialize the simulation\n",
    "env.reset()\n",
    "\n",
    "# Take one random step to get the pole and cart moving\n",
    "state, reward, done, _ = env.step(env.action_space.sample())\n",
    "\n",
    "memory = Memory(max_size=memory_size)\n",
    "\n",
    "# Make a bunch of random actions and store the experiences\n",
    "for ii in range(pretrain_length):\n",
    "    # Uncomment the line below to watch the simulation\n",
    "    # env.render()\n",
    "\n",
    "    # Make a random action\n",
    "    action = env.action_space.sample()\n",
    "    next_state, reward, done, _ = env.step(action)\n",
    "\n",
    "    if done:\n",
    "        # The simulation fails so no next state\n",
    "        next_state = np.zeros(state.shape)\n",
    "        # Add experience to memory\n",
    "        memory.add((state, action, reward, next_state))\n",
    "        \n",
    "        # Start new episode\n",
    "        env.reset()\n",
    "        # Take one random step to get the pole and cart moving\n",
    "        state, reward, done, _ = env.step(env.action_space.sample())\n",
    "    else:\n",
    "        # Add experience to memory\n",
    "        memory.add((state, action, reward, next_state))\n",
    "        state = next_state"
   ]
  },
  {
   "cell_type": "markdown",
   "metadata": {},
   "source": [
    "## Training\n",
    "\n",
    "Below we'll train our agent. If you want to watch it train, uncomment the `env.render()` line. This is slow because it's rendering the frames slower than the network can train. But, it's cool to watch the agent get better at the game."
   ]
  },
  {
   "cell_type": "code",
   "execution_count": 11,
   "metadata": {
    "collapsed": false
   },
   "outputs": [
    {
     "name": "stdout",
     "output_type": "stream",
     "text": [
      "Episode: 1 Total reward: 10.0 Training loss: 1.1024 Explore P: 0.9990\n",
      "Episode: 2 Total reward: 21.0 Training loss: 1.0602 Explore P: 0.9969\n",
      "Episode: 3 Total reward: 41.0 Training loss: 1.0829 Explore P: 0.9929\n",
      "Episode: 4 Total reward: 20.0 Training loss: 1.1369 Explore P: 0.9909\n",
      "Episode: 5 Total reward: 22.0 Training loss: 1.1455 Explore P: 0.9888\n",
      "Episode: 6 Total reward: 25.0 Training loss: 1.1369 Explore P: 0.9863\n",
      "Episode: 7 Total reward: 10.0 Training loss: 1.1096 Explore P: 0.9854\n",
      "Episode: 8 Total reward: 44.0 Training loss: 1.1473 Explore P: 0.9811\n",
      "Episode: 9 Total reward: 16.0 Training loss: 1.1786 Explore P: 0.9795\n",
      "Episode: 10 Total reward: 24.0 Training loss: 1.2535 Explore P: 0.9772\n",
      "Episode: 11 Total reward: 24.0 Training loss: 1.2942 Explore P: 0.9749\n",
      "Episode: 12 Total reward: 15.0 Training loss: 1.1838 Explore P: 0.9734\n",
      "Episode: 13 Total reward: 17.0 Training loss: 1.6232 Explore P: 0.9718\n",
      "Episode: 14 Total reward: 28.0 Training loss: 1.2788 Explore P: 0.9691\n",
      "Episode: 15 Total reward: 20.0 Training loss: 1.8001 Explore P: 0.9672\n",
      "Episode: 16 Total reward: 15.0 Training loss: 2.7392 Explore P: 0.9658\n",
      "Episode: 17 Total reward: 35.0 Training loss: 2.0025 Explore P: 0.9624\n",
      "Episode: 18 Total reward: 20.0 Training loss: 1.6929 Explore P: 0.9605\n",
      "Episode: 19 Total reward: 21.0 Training loss: 1.8851 Explore P: 0.9585\n",
      "Episode: 20 Total reward: 11.0 Training loss: 3.1705 Explore P: 0.9575\n",
      "Episode: 21 Total reward: 39.0 Training loss: 3.5999 Explore P: 0.9538\n",
      "Episode: 22 Total reward: 14.0 Training loss: 4.7904 Explore P: 0.9525\n",
      "Episode: 23 Total reward: 44.0 Training loss: 2.8546 Explore P: 0.9483\n",
      "Episode: 24 Total reward: 11.0 Training loss: 2.6049 Explore P: 0.9473\n",
      "Episode: 25 Total reward: 53.0 Training loss: 11.8686 Explore P: 0.9423\n",
      "Episode: 26 Total reward: 14.0 Training loss: 3.3772 Explore P: 0.9410\n",
      "Episode: 27 Total reward: 12.0 Training loss: 2.8050 Explore P: 0.9399\n",
      "Episode: 28 Total reward: 18.0 Training loss: 2.8800 Explore P: 0.9383\n",
      "Episode: 29 Total reward: 11.0 Training loss: 13.2966 Explore P: 0.9372\n",
      "Episode: 30 Total reward: 18.0 Training loss: 3.8167 Explore P: 0.9356\n",
      "Episode: 31 Total reward: 14.0 Training loss: 5.1149 Explore P: 0.9343\n",
      "Episode: 32 Total reward: 11.0 Training loss: 3.2147 Explore P: 0.9333\n",
      "Episode: 33 Total reward: 13.0 Training loss: 3.0740 Explore P: 0.9321\n",
      "Episode: 34 Total reward: 16.0 Training loss: 6.1068 Explore P: 0.9306\n",
      "Episode: 35 Total reward: 17.0 Training loss: 8.2085 Explore P: 0.9290\n",
      "Episode: 36 Total reward: 13.0 Training loss: 4.7447 Explore P: 0.9278\n",
      "Episode: 37 Total reward: 20.0 Training loss: 17.1304 Explore P: 0.9260\n",
      "Episode: 38 Total reward: 13.0 Training loss: 3.0266 Explore P: 0.9248\n",
      "Episode: 39 Total reward: 16.0 Training loss: 3.5157 Explore P: 0.9233\n",
      "Episode: 40 Total reward: 30.0 Training loss: 3.6974 Explore P: 0.9206\n",
      "Episode: 41 Total reward: 24.0 Training loss: 13.7533 Explore P: 0.9184\n",
      "Episode: 42 Total reward: 9.0 Training loss: 22.1939 Explore P: 0.9176\n",
      "Episode: 43 Total reward: 18.0 Training loss: 2.5760 Explore P: 0.9160\n",
      "Episode: 44 Total reward: 12.0 Training loss: 6.7871 Explore P: 0.9149\n",
      "Episode: 45 Total reward: 13.0 Training loss: 20.9429 Explore P: 0.9137\n",
      "Episode: 46 Total reward: 10.0 Training loss: 9.4136 Explore P: 0.9128\n",
      "Episode: 47 Total reward: 51.0 Training loss: 3.8522 Explore P: 0.9082\n",
      "Episode: 48 Total reward: 28.0 Training loss: 6.4586 Explore P: 0.9057\n",
      "Episode: 49 Total reward: 19.0 Training loss: 6.1901 Explore P: 0.9040\n",
      "Episode: 50 Total reward: 11.0 Training loss: 4.7896 Explore P: 0.9030\n",
      "Episode: 51 Total reward: 14.0 Training loss: 10.8223 Explore P: 0.9018\n",
      "Episode: 52 Total reward: 24.0 Training loss: 7.8964 Explore P: 0.8996\n",
      "Episode: 53 Total reward: 14.0 Training loss: 9.1210 Explore P: 0.8984\n",
      "Episode: 54 Total reward: 9.0 Training loss: 3.8915 Explore P: 0.8976\n",
      "Episode: 55 Total reward: 20.0 Training loss: 14.3006 Explore P: 0.8958\n",
      "Episode: 56 Total reward: 33.0 Training loss: 7.1268 Explore P: 0.8929\n",
      "Episode: 57 Total reward: 13.0 Training loss: 22.3194 Explore P: 0.8917\n",
      "Episode: 58 Total reward: 19.0 Training loss: 3.8429 Explore P: 0.8901\n",
      "Episode: 59 Total reward: 9.0 Training loss: 19.7990 Explore P: 0.8893\n",
      "Episode: 60 Total reward: 21.0 Training loss: 2.6535 Explore P: 0.8874\n",
      "Episode: 61 Total reward: 24.0 Training loss: 15.5054 Explore P: 0.8853\n",
      "Episode: 62 Total reward: 8.0 Training loss: 23.4269 Explore P: 0.8846\n",
      "Episode: 63 Total reward: 30.0 Training loss: 24.1529 Explore P: 0.8820\n",
      "Episode: 64 Total reward: 10.0 Training loss: 4.5448 Explore P: 0.8811\n",
      "Episode: 65 Total reward: 13.0 Training loss: 4.6956 Explore P: 0.8800\n",
      "Episode: 66 Total reward: 13.0 Training loss: 14.5483 Explore P: 0.8789\n",
      "Episode: 67 Total reward: 25.0 Training loss: 43.1420 Explore P: 0.8767\n",
      "Episode: 68 Total reward: 13.0 Training loss: 6.0239 Explore P: 0.8756\n",
      "Episode: 69 Total reward: 16.0 Training loss: 24.6684 Explore P: 0.8742\n",
      "Episode: 70 Total reward: 13.0 Training loss: 16.0454 Explore P: 0.8731\n",
      "Episode: 71 Total reward: 18.0 Training loss: 22.3778 Explore P: 0.8715\n",
      "Episode: 72 Total reward: 25.0 Training loss: 3.5069 Explore P: 0.8694\n",
      "Episode: 73 Total reward: 8.0 Training loss: 4.2724 Explore P: 0.8687\n",
      "Episode: 74 Total reward: 22.0 Training loss: 37.4296 Explore P: 0.8668\n",
      "Episode: 75 Total reward: 15.0 Training loss: 26.3430 Explore P: 0.8655\n",
      "Episode: 76 Total reward: 27.0 Training loss: 15.3141 Explore P: 0.8632\n",
      "Episode: 77 Total reward: 37.0 Training loss: 4.5207 Explore P: 0.8601\n",
      "Episode: 78 Total reward: 17.0 Training loss: 4.2251 Explore P: 0.8586\n",
      "Episode: 79 Total reward: 21.0 Training loss: 29.6209 Explore P: 0.8568\n",
      "Episode: 80 Total reward: 14.0 Training loss: 38.7331 Explore P: 0.8556\n",
      "Episode: 81 Total reward: 19.0 Training loss: 53.1910 Explore P: 0.8540\n",
      "Episode: 82 Total reward: 21.0 Training loss: 28.8065 Explore P: 0.8523\n",
      "Episode: 83 Total reward: 15.0 Training loss: 5.5038 Explore P: 0.8510\n",
      "Episode: 84 Total reward: 9.0 Training loss: 4.0584 Explore P: 0.8503\n",
      "Episode: 85 Total reward: 13.0 Training loss: 20.1332 Explore P: 0.8492\n",
      "Episode: 86 Total reward: 11.0 Training loss: 3.6718 Explore P: 0.8482\n",
      "Episode: 87 Total reward: 9.0 Training loss: 5.4187 Explore P: 0.8475\n",
      "Episode: 88 Total reward: 28.0 Training loss: 83.4481 Explore P: 0.8451\n",
      "Episode: 89 Total reward: 15.0 Training loss: 4.1268 Explore P: 0.8439\n",
      "Episode: 90 Total reward: 18.0 Training loss: 5.3806 Explore P: 0.8424\n",
      "Episode: 91 Total reward: 16.0 Training loss: 17.9577 Explore P: 0.8411\n",
      "Episode: 92 Total reward: 14.0 Training loss: 4.5066 Explore P: 0.8399\n",
      "Episode: 93 Total reward: 12.0 Training loss: 4.9682 Explore P: 0.8389\n",
      "Episode: 94 Total reward: 9.0 Training loss: 40.0417 Explore P: 0.8382\n",
      "Episode: 95 Total reward: 9.0 Training loss: 4.4668 Explore P: 0.8374\n",
      "Episode: 96 Total reward: 12.0 Training loss: 4.8892 Explore P: 0.8364\n",
      "Episode: 97 Total reward: 11.0 Training loss: 17.1827 Explore P: 0.8355\n",
      "Episode: 98 Total reward: 12.0 Training loss: 33.3216 Explore P: 0.8345\n",
      "Episode: 99 Total reward: 23.0 Training loss: 34.0184 Explore P: 0.8326\n",
      "Episode: 100 Total reward: 8.0 Training loss: 6.3348 Explore P: 0.8320\n",
      "Episode: 101 Total reward: 14.0 Training loss: 93.3386 Explore P: 0.8308\n",
      "Episode: 102 Total reward: 22.0 Training loss: 52.7266 Explore P: 0.8290\n",
      "Episode: 103 Total reward: 32.0 Training loss: 56.7847 Explore P: 0.8264\n",
      "Episode: 104 Total reward: 23.0 Training loss: 85.0113 Explore P: 0.8245\n",
      "Episode: 105 Total reward: 11.0 Training loss: 21.6790 Explore P: 0.8236\n",
      "Episode: 106 Total reward: 15.0 Training loss: 29.9756 Explore P: 0.8224\n",
      "Episode: 107 Total reward: 12.0 Training loss: 4.7847 Explore P: 0.8214\n",
      "Episode: 108 Total reward: 14.0 Training loss: 5.3462 Explore P: 0.8203\n",
      "Episode: 109 Total reward: 20.0 Training loss: 4.7484 Explore P: 0.8187\n",
      "Episode: 110 Total reward: 21.0 Training loss: 61.9813 Explore P: 0.8170\n",
      "Episode: 111 Total reward: 18.0 Training loss: 3.9933 Explore P: 0.8155\n",
      "Episode: 112 Total reward: 13.0 Training loss: 55.5804 Explore P: 0.8145\n",
      "Episode: 113 Total reward: 12.0 Training loss: 6.5545 Explore P: 0.8135\n",
      "Episode: 114 Total reward: 15.0 Training loss: 76.5954 Explore P: 0.8123\n",
      "Episode: 115 Total reward: 14.0 Training loss: 4.7526 Explore P: 0.8112\n",
      "Episode: 116 Total reward: 22.0 Training loss: 6.0905 Explore P: 0.8094\n",
      "Episode: 117 Total reward: 9.0 Training loss: 25.7822 Explore P: 0.8087\n",
      "Episode: 118 Total reward: 11.0 Training loss: 44.4646 Explore P: 0.8078\n",
      "Episode: 119 Total reward: 38.0 Training loss: 5.3757 Explore P: 0.8048\n",
      "Episode: 120 Total reward: 10.0 Training loss: 34.0901 Explore P: 0.8040\n",
      "Episode: 121 Total reward: 22.0 Training loss: 37.9052 Explore P: 0.8023\n",
      "Episode: 122 Total reward: 15.0 Training loss: 6.5145 Explore P: 0.8011\n",
      "Episode: 123 Total reward: 16.0 Training loss: 26.7042 Explore P: 0.7998\n",
      "Episode: 124 Total reward: 18.0 Training loss: 28.1626 Explore P: 0.7984\n",
      "Episode: 125 Total reward: 14.0 Training loss: 128.4942 Explore P: 0.7973\n",
      "Episode: 126 Total reward: 14.0 Training loss: 31.4793 Explore P: 0.7962\n",
      "Episode: 127 Total reward: 13.0 Training loss: 69.1994 Explore P: 0.7952\n",
      "Episode: 128 Total reward: 24.0 Training loss: 5.0524 Explore P: 0.7933\n",
      "Episode: 129 Total reward: 16.0 Training loss: 36.1259 Explore P: 0.7920\n",
      "Episode: 130 Total reward: 16.0 Training loss: 57.8649 Explore P: 0.7908\n",
      "Episode: 131 Total reward: 22.0 Training loss: 77.7857 Explore P: 0.7891\n",
      "Episode: 132 Total reward: 9.0 Training loss: 3.7643 Explore P: 0.7884\n",
      "Episode: 133 Total reward: 11.0 Training loss: 109.9018 Explore P: 0.7875\n",
      "Episode: 134 Total reward: 16.0 Training loss: 3.1673 Explore P: 0.7863\n",
      "Episode: 135 Total reward: 8.0 Training loss: 37.5932 Explore P: 0.7857\n",
      "Episode: 136 Total reward: 13.0 Training loss: 41.4697 Explore P: 0.7846\n",
      "Episode: 137 Total reward: 30.0 Training loss: 24.8307 Explore P: 0.7823\n",
      "Episode: 138 Total reward: 13.0 Training loss: 3.9446 Explore P: 0.7813\n",
      "Episode: 139 Total reward: 10.0 Training loss: 58.6161 Explore P: 0.7806\n",
      "Episode: 140 Total reward: 24.0 Training loss: 4.0324 Explore P: 0.7787\n",
      "Episode: 141 Total reward: 8.0 Training loss: 4.3913 Explore P: 0.7781\n",
      "Episode: 142 Total reward: 42.0 Training loss: 3.3131 Explore P: 0.7749\n",
      "Episode: 143 Total reward: 11.0 Training loss: 32.5489 Explore P: 0.7740\n",
      "Episode: 144 Total reward: 8.0 Training loss: 28.0829 Explore P: 0.7734\n",
      "Episode: 145 Total reward: 16.0 Training loss: 3.9895 Explore P: 0.7722\n",
      "Episode: 146 Total reward: 8.0 Training loss: 4.2295 Explore P: 0.7716\n",
      "Episode: 147 Total reward: 45.0 Training loss: 70.5500 Explore P: 0.7682\n",
      "Episode: 148 Total reward: 15.0 Training loss: 5.3503 Explore P: 0.7670\n",
      "Episode: 149 Total reward: 31.0 Training loss: 92.1883 Explore P: 0.7647\n",
      "Episode: 150 Total reward: 26.0 Training loss: 3.9927 Explore P: 0.7627\n",
      "Episode: 151 Total reward: 33.0 Training loss: 39.2118 Explore P: 0.7602\n",
      "Episode: 152 Total reward: 12.0 Training loss: 3.9938 Explore P: 0.7593\n",
      "Episode: 153 Total reward: 13.0 Training loss: 4.4191 Explore P: 0.7584\n",
      "Episode: 154 Total reward: 20.0 Training loss: 4.1355 Explore P: 0.7569\n",
      "Episode: 155 Total reward: 16.0 Training loss: 30.4475 Explore P: 0.7557\n",
      "Episode: 156 Total reward: 31.0 Training loss: 32.8752 Explore P: 0.7534\n",
      "Episode: 157 Total reward: 24.0 Training loss: 64.6020 Explore P: 0.7516\n",
      "Episode: 158 Total reward: 19.0 Training loss: 27.0855 Explore P: 0.7502\n",
      "Episode: 159 Total reward: 10.0 Training loss: 41.0473 Explore P: 0.7494\n",
      "Episode: 160 Total reward: 54.0 Training loss: 100.3150 Explore P: 0.7455\n",
      "Episode: 161 Total reward: 9.0 Training loss: 51.8533 Explore P: 0.7448\n",
      "Episode: 162 Total reward: 23.0 Training loss: 4.4842 Explore P: 0.7431\n",
      "Episode: 163 Total reward: 33.0 Training loss: 109.5781 Explore P: 0.7407\n",
      "Episode: 164 Total reward: 10.0 Training loss: 48.6811 Explore P: 0.7400\n",
      "Episode: 165 Total reward: 24.0 Training loss: 76.7075 Explore P: 0.7382\n",
      "Episode: 166 Total reward: 14.0 Training loss: 40.9150 Explore P: 0.7372\n",
      "Episode: 167 Total reward: 41.0 Training loss: 3.7042 Explore P: 0.7342\n",
      "Episode: 168 Total reward: 12.0 Training loss: 105.5079 Explore P: 0.7334\n",
      "Episode: 169 Total reward: 10.0 Training loss: 33.2934 Explore P: 0.7326\n",
      "Episode: 170 Total reward: 18.0 Training loss: 70.5803 Explore P: 0.7313\n",
      "Episode: 171 Total reward: 24.0 Training loss: 2.5819 Explore P: 0.7296\n",
      "Episode: 172 Total reward: 13.0 Training loss: 53.4601 Explore P: 0.7287\n",
      "Episode: 173 Total reward: 15.0 Training loss: 53.9033 Explore P: 0.7276\n",
      "Episode: 174 Total reward: 25.0 Training loss: 31.1533 Explore P: 0.7258\n",
      "Episode: 175 Total reward: 21.0 Training loss: 2.1272 Explore P: 0.7243\n",
      "Episode: 176 Total reward: 15.0 Training loss: 33.0007 Explore P: 0.7232\n",
      "Episode: 177 Total reward: 18.0 Training loss: 33.8199 Explore P: 0.7219\n",
      "Episode: 178 Total reward: 15.0 Training loss: 2.2021 Explore P: 0.7209\n",
      "Episode: 179 Total reward: 33.0 Training loss: 38.3929 Explore P: 0.7185\n",
      "Episode: 180 Total reward: 12.0 Training loss: 31.5653 Explore P: 0.7177\n",
      "Episode: 181 Total reward: 11.0 Training loss: 35.5702 Explore P: 0.7169\n",
      "Episode: 182 Total reward: 27.0 Training loss: 2.4636 Explore P: 0.7150\n",
      "Episode: 183 Total reward: 18.0 Training loss: 31.8028 Explore P: 0.7137\n",
      "Episode: 184 Total reward: 18.0 Training loss: 28.6630 Explore P: 0.7125\n",
      "Episode: 185 Total reward: 30.0 Training loss: 1.2184 Explore P: 0.7104\n",
      "Episode: 186 Total reward: 10.0 Training loss: 31.5997 Explore P: 0.7097\n",
      "Episode: 187 Total reward: 16.0 Training loss: 1.8943 Explore P: 0.7085\n",
      "Episode: 188 Total reward: 14.0 Training loss: 1.2977 Explore P: 0.7076\n",
      "Episode: 189 Total reward: 10.0 Training loss: 25.7568 Explore P: 0.7069\n",
      "Episode: 190 Total reward: 14.0 Training loss: 126.8777 Explore P: 0.7059\n",
      "Episode: 191 Total reward: 9.0 Training loss: 30.7716 Explore P: 0.7053\n",
      "Episode: 192 Total reward: 33.0 Training loss: 1.1063 Explore P: 0.7030\n",
      "Episode: 193 Total reward: 8.0 Training loss: 30.1312 Explore P: 0.7024\n",
      "Episode: 194 Total reward: 13.0 Training loss: 1.2481 Explore P: 0.7015\n",
      "Episode: 195 Total reward: 9.0 Training loss: 104.2520 Explore P: 0.7009\n",
      "Episode: 196 Total reward: 13.0 Training loss: 59.1085 Explore P: 0.7000\n",
      "Episode: 197 Total reward: 44.0 Training loss: 24.8856 Explore P: 0.6970\n",
      "Episode: 198 Total reward: 11.0 Training loss: 26.5014 Explore P: 0.6962\n",
      "Episode: 199 Total reward: 15.0 Training loss: 32.7850 Explore P: 0.6952\n",
      "Episode: 200 Total reward: 36.0 Training loss: 0.7367 Explore P: 0.6927\n",
      "Episode: 201 Total reward: 12.0 Training loss: 22.5053 Explore P: 0.6919\n",
      "Episode: 202 Total reward: 33.0 Training loss: 25.9778 Explore P: 0.6897\n",
      "Episode: 203 Total reward: 17.0 Training loss: 23.8412 Explore P: 0.6885\n",
      "Episode: 204 Total reward: 25.0 Training loss: 46.6264 Explore P: 0.6868\n",
      "Episode: 205 Total reward: 10.0 Training loss: 48.4243 Explore P: 0.6861\n",
      "Episode: 206 Total reward: 10.0 Training loss: 1.3329 Explore P: 0.6855\n",
      "Episode: 207 Total reward: 20.0 Training loss: 46.2805 Explore P: 0.6841\n",
      "Episode: 208 Total reward: 9.0 Training loss: 0.9534 Explore P: 0.6835\n",
      "Episode: 209 Total reward: 23.0 Training loss: 22.7690 Explore P: 0.6820\n",
      "Episode: 210 Total reward: 26.0 Training loss: 23.1922 Explore P: 0.6802\n",
      "Episode: 211 Total reward: 14.0 Training loss: 0.8308 Explore P: 0.6793\n",
      "Episode: 212 Total reward: 9.0 Training loss: 22.3824 Explore P: 0.6787\n",
      "Episode: 213 Total reward: 9.0 Training loss: 1.0817 Explore P: 0.6781\n",
      "Episode: 214 Total reward: 36.0 Training loss: 0.8707 Explore P: 0.6757\n",
      "Episode: 215 Total reward: 22.0 Training loss: 21.5373 Explore P: 0.6742\n",
      "Episode: 216 Total reward: 16.0 Training loss: 39.0810 Explore P: 0.6732\n",
      "Episode: 217 Total reward: 15.0 Training loss: 1.0769 Explore P: 0.6722\n",
      "Episode: 218 Total reward: 14.0 Training loss: 18.8047 Explore P: 0.6712\n",
      "Episode: 219 Total reward: 12.0 Training loss: 19.6569 Explore P: 0.6704\n",
      "Episode: 220 Total reward: 16.0 Training loss: 20.0725 Explore P: 0.6694\n",
      "Episode: 221 Total reward: 12.0 Training loss: 24.3643 Explore P: 0.6686\n",
      "Episode: 222 Total reward: 13.0 Training loss: 18.8074 Explore P: 0.6677\n",
      "Episode: 223 Total reward: 15.0 Training loss: 20.1431 Explore P: 0.6668\n",
      "Episode: 224 Total reward: 21.0 Training loss: 19.6551 Explore P: 0.6654\n",
      "Episode: 225 Total reward: 12.0 Training loss: 36.4565 Explore P: 0.6646\n",
      "Episode: 226 Total reward: 16.0 Training loss: 17.6369 Explore P: 0.6635\n",
      "Episode: 227 Total reward: 22.0 Training loss: 38.1096 Explore P: 0.6621\n",
      "Episode: 228 Total reward: 15.0 Training loss: 17.3859 Explore P: 0.6611\n",
      "Episode: 229 Total reward: 18.0 Training loss: 0.8959 Explore P: 0.6600\n",
      "Episode: 230 Total reward: 18.0 Training loss: 34.9386 Explore P: 0.6588\n",
      "Episode: 231 Total reward: 19.0 Training loss: 36.1295 Explore P: 0.6576\n",
      "Episode: 232 Total reward: 10.0 Training loss: 54.8070 Explore P: 0.6569\n",
      "Episode: 233 Total reward: 19.0 Training loss: 17.3346 Explore P: 0.6557\n",
      "Episode: 234 Total reward: 25.0 Training loss: 20.5150 Explore P: 0.6541\n",
      "Episode: 235 Total reward: 14.0 Training loss: 52.1697 Explore P: 0.6532\n",
      "Episode: 236 Total reward: 37.0 Training loss: 58.2140 Explore P: 0.6508\n",
      "Episode: 237 Total reward: 9.0 Training loss: 15.8112 Explore P: 0.6502\n",
      "Episode: 238 Total reward: 15.0 Training loss: 0.8926 Explore P: 0.6493\n",
      "Episode: 239 Total reward: 13.0 Training loss: 14.0103 Explore P: 0.6484\n",
      "Episode: 240 Total reward: 73.0 Training loss: 34.1404 Explore P: 0.6438\n",
      "Episode: 241 Total reward: 17.0 Training loss: 34.6027 Explore P: 0.6427\n",
      "Episode: 242 Total reward: 9.0 Training loss: 18.3989 Explore P: 0.6421\n",
      "Episode: 243 Total reward: 13.0 Training loss: 0.8023 Explore P: 0.6413\n",
      "Episode: 244 Total reward: 59.0 Training loss: 14.5257 Explore P: 0.6376\n",
      "Episode: 245 Total reward: 61.0 Training loss: 0.8964 Explore P: 0.6338\n",
      "Episode: 246 Total reward: 21.0 Training loss: 1.1927 Explore P: 0.6325\n",
      "Episode: 247 Total reward: 22.0 Training loss: 17.4665 Explore P: 0.6311\n",
      "Episode: 248 Total reward: 41.0 Training loss: 30.8306 Explore P: 0.6286\n",
      "Episode: 249 Total reward: 22.0 Training loss: 0.8766 Explore P: 0.6272\n",
      "Episode: 250 Total reward: 22.0 Training loss: 45.9915 Explore P: 0.6259\n",
      "Episode: 251 Total reward: 24.0 Training loss: 15.3412 Explore P: 0.6244\n",
      "Episode: 252 Total reward: 52.0 Training loss: 0.9826 Explore P: 0.6212\n",
      "Episode: 253 Total reward: 65.0 Training loss: 0.9810 Explore P: 0.6172\n",
      "Episode: 254 Total reward: 13.0 Training loss: 14.1935 Explore P: 0.6164\n",
      "Episode: 255 Total reward: 10.0 Training loss: 0.7041 Explore P: 0.6158\n",
      "Episode: 256 Total reward: 18.0 Training loss: 21.6431 Explore P: 0.6147\n",
      "Episode: 257 Total reward: 11.0 Training loss: 0.9316 Explore P: 0.6141\n",
      "Episode: 258 Total reward: 10.0 Training loss: 1.1237 Explore P: 0.6135\n",
      "Episode: 259 Total reward: 17.0 Training loss: 28.3753 Explore P: 0.6125\n",
      "Episode: 260 Total reward: 18.0 Training loss: 11.4056 Explore P: 0.6114\n",
      "Episode: 261 Total reward: 16.0 Training loss: 1.0382 Explore P: 0.6104\n",
      "Episode: 262 Total reward: 8.0 Training loss: 24.7943 Explore P: 0.6099\n"
     ]
    },
    {
     "ename": "AttributeError",
     "evalue": "'NoneType' object has no attribute 'flip'",
     "output_type": "error",
     "traceback": [
      "\u001b[0;31m---------------------------------------------------------------------------\u001b[0m",
      "\u001b[0;31mAttributeError\u001b[0m                            Traceback (most recent call last)",
      "\u001b[0;32m<ipython-input-11-26e7f18540c0>\u001b[0m in \u001b[0;36m<module>\u001b[0;34m()\u001b[0m\n\u001b[1;32m     17\u001b[0m             \u001b[0mstep\u001b[0m \u001b[1;33m+=\u001b[0m \u001b[1;36m1\u001b[0m\u001b[1;33m\u001b[0m\u001b[0m\n\u001b[1;32m     18\u001b[0m             \u001b[1;31m# Uncomment this next line to watch the training\u001b[0m\u001b[1;33m\u001b[0m\u001b[1;33m\u001b[0m\u001b[0m\n\u001b[0;32m---> 19\u001b[0;31m             \u001b[0menv\u001b[0m\u001b[1;33m.\u001b[0m\u001b[0mrender\u001b[0m\u001b[1;33m(\u001b[0m\u001b[1;33m)\u001b[0m\u001b[1;33m\u001b[0m\u001b[0m\n\u001b[0m\u001b[1;32m     20\u001b[0m \u001b[1;33m\u001b[0m\u001b[0m\n\u001b[1;32m     21\u001b[0m             \u001b[1;31m# Explore or Exploit\u001b[0m\u001b[1;33m\u001b[0m\u001b[1;33m\u001b[0m\u001b[0m\n",
      "\u001b[0;32mC:\\anthony-ide\\Anaconda3\\lib\\site-packages\\gym\\core.py\u001b[0m in \u001b[0;36mrender\u001b[0;34m(self, mode, close)\u001b[0m\n\u001b[1;32m    151\u001b[0m             \u001b[1;32melif\u001b[0m \u001b[0mmode\u001b[0m \u001b[1;32mnot\u001b[0m \u001b[1;32min\u001b[0m \u001b[0mmodes\u001b[0m\u001b[1;33m:\u001b[0m\u001b[1;33m\u001b[0m\u001b[0m\n\u001b[1;32m    152\u001b[0m                 \u001b[1;32mraise\u001b[0m \u001b[0merror\u001b[0m\u001b[1;33m.\u001b[0m\u001b[0mUnsupportedMode\u001b[0m\u001b[1;33m(\u001b[0m\u001b[1;34m'Unsupported rendering mode: {}. (Supported modes for {}: {})'\u001b[0m\u001b[1;33m.\u001b[0m\u001b[0mformat\u001b[0m\u001b[1;33m(\u001b[0m\u001b[0mmode\u001b[0m\u001b[1;33m,\u001b[0m \u001b[0mself\u001b[0m\u001b[1;33m,\u001b[0m \u001b[0mmodes\u001b[0m\u001b[1;33m)\u001b[0m\u001b[1;33m)\u001b[0m\u001b[1;33m\u001b[0m\u001b[0m\n\u001b[0;32m--> 153\u001b[0;31m         \u001b[1;32mreturn\u001b[0m \u001b[0mself\u001b[0m\u001b[1;33m.\u001b[0m\u001b[0m_render\u001b[0m\u001b[1;33m(\u001b[0m\u001b[0mmode\u001b[0m\u001b[1;33m=\u001b[0m\u001b[0mmode\u001b[0m\u001b[1;33m,\u001b[0m \u001b[0mclose\u001b[0m\u001b[1;33m=\u001b[0m\u001b[0mclose\u001b[0m\u001b[1;33m)\u001b[0m\u001b[1;33m\u001b[0m\u001b[0m\n\u001b[0m\u001b[1;32m    154\u001b[0m \u001b[1;33m\u001b[0m\u001b[0m\n\u001b[1;32m    155\u001b[0m     \u001b[1;32mdef\u001b[0m \u001b[0mclose\u001b[0m\u001b[1;33m(\u001b[0m\u001b[0mself\u001b[0m\u001b[1;33m)\u001b[0m\u001b[1;33m:\u001b[0m\u001b[1;33m\u001b[0m\u001b[0m\n",
      "\u001b[0;32mC:\\anthony-ide\\Anaconda3\\lib\\site-packages\\gym\\core.py\u001b[0m in \u001b[0;36m_render\u001b[0;34m(self, mode, close)\u001b[0m\n\u001b[1;32m    283\u001b[0m \u001b[1;33m\u001b[0m\u001b[0m\n\u001b[1;32m    284\u001b[0m     \u001b[1;32mdef\u001b[0m \u001b[0m_render\u001b[0m\u001b[1;33m(\u001b[0m\u001b[0mself\u001b[0m\u001b[1;33m,\u001b[0m \u001b[0mmode\u001b[0m\u001b[1;33m=\u001b[0m\u001b[1;34m'human'\u001b[0m\u001b[1;33m,\u001b[0m \u001b[0mclose\u001b[0m\u001b[1;33m=\u001b[0m\u001b[1;32mFalse\u001b[0m\u001b[1;33m)\u001b[0m\u001b[1;33m:\u001b[0m\u001b[1;33m\u001b[0m\u001b[0m\n\u001b[0;32m--> 285\u001b[0;31m         \u001b[1;32mreturn\u001b[0m \u001b[0mself\u001b[0m\u001b[1;33m.\u001b[0m\u001b[0menv\u001b[0m\u001b[1;33m.\u001b[0m\u001b[0mrender\u001b[0m\u001b[1;33m(\u001b[0m\u001b[0mmode\u001b[0m\u001b[1;33m,\u001b[0m \u001b[0mclose\u001b[0m\u001b[1;33m)\u001b[0m\u001b[1;33m\u001b[0m\u001b[0m\n\u001b[0m\u001b[1;32m    286\u001b[0m \u001b[1;33m\u001b[0m\u001b[0m\n\u001b[1;32m    287\u001b[0m     \u001b[1;32mdef\u001b[0m \u001b[0m_close\u001b[0m\u001b[1;33m(\u001b[0m\u001b[0mself\u001b[0m\u001b[1;33m)\u001b[0m\u001b[1;33m:\u001b[0m\u001b[1;33m\u001b[0m\u001b[0m\n",
      "\u001b[0;32mC:\\anthony-ide\\Anaconda3\\lib\\site-packages\\gym\\core.py\u001b[0m in \u001b[0;36mrender\u001b[0;34m(self, mode, close)\u001b[0m\n\u001b[1;32m    151\u001b[0m             \u001b[1;32melif\u001b[0m \u001b[0mmode\u001b[0m \u001b[1;32mnot\u001b[0m \u001b[1;32min\u001b[0m \u001b[0mmodes\u001b[0m\u001b[1;33m:\u001b[0m\u001b[1;33m\u001b[0m\u001b[0m\n\u001b[1;32m    152\u001b[0m                 \u001b[1;32mraise\u001b[0m \u001b[0merror\u001b[0m\u001b[1;33m.\u001b[0m\u001b[0mUnsupportedMode\u001b[0m\u001b[1;33m(\u001b[0m\u001b[1;34m'Unsupported rendering mode: {}. (Supported modes for {}: {})'\u001b[0m\u001b[1;33m.\u001b[0m\u001b[0mformat\u001b[0m\u001b[1;33m(\u001b[0m\u001b[0mmode\u001b[0m\u001b[1;33m,\u001b[0m \u001b[0mself\u001b[0m\u001b[1;33m,\u001b[0m \u001b[0mmodes\u001b[0m\u001b[1;33m)\u001b[0m\u001b[1;33m)\u001b[0m\u001b[1;33m\u001b[0m\u001b[0m\n\u001b[0;32m--> 153\u001b[0;31m         \u001b[1;32mreturn\u001b[0m \u001b[0mself\u001b[0m\u001b[1;33m.\u001b[0m\u001b[0m_render\u001b[0m\u001b[1;33m(\u001b[0m\u001b[0mmode\u001b[0m\u001b[1;33m=\u001b[0m\u001b[0mmode\u001b[0m\u001b[1;33m,\u001b[0m \u001b[0mclose\u001b[0m\u001b[1;33m=\u001b[0m\u001b[0mclose\u001b[0m\u001b[1;33m)\u001b[0m\u001b[1;33m\u001b[0m\u001b[0m\n\u001b[0m\u001b[1;32m    154\u001b[0m \u001b[1;33m\u001b[0m\u001b[0m\n\u001b[1;32m    155\u001b[0m     \u001b[1;32mdef\u001b[0m \u001b[0mclose\u001b[0m\u001b[1;33m(\u001b[0m\u001b[0mself\u001b[0m\u001b[1;33m)\u001b[0m\u001b[1;33m:\u001b[0m\u001b[1;33m\u001b[0m\u001b[0m\n",
      "\u001b[0;32mC:\\anthony-ide\\Anaconda3\\lib\\site-packages\\gym\\envs\\classic_control\\cartpole.py\u001b[0m in \u001b[0;36m_render\u001b[0;34m(self, mode, close)\u001b[0m\n\u001b[1;32m    143\u001b[0m         \u001b[0mself\u001b[0m\u001b[1;33m.\u001b[0m\u001b[0mpoletrans\u001b[0m\u001b[1;33m.\u001b[0m\u001b[0mset_rotation\u001b[0m\u001b[1;33m(\u001b[0m\u001b[1;33m-\u001b[0m\u001b[0mx\u001b[0m\u001b[1;33m[\u001b[0m\u001b[1;36m2\u001b[0m\u001b[1;33m]\u001b[0m\u001b[1;33m)\u001b[0m\u001b[1;33m\u001b[0m\u001b[0m\n\u001b[1;32m    144\u001b[0m \u001b[1;33m\u001b[0m\u001b[0m\n\u001b[0;32m--> 145\u001b[0;31m         \u001b[1;32mreturn\u001b[0m \u001b[0mself\u001b[0m\u001b[1;33m.\u001b[0m\u001b[0mviewer\u001b[0m\u001b[1;33m.\u001b[0m\u001b[0mrender\u001b[0m\u001b[1;33m(\u001b[0m\u001b[0mreturn_rgb_array\u001b[0m \u001b[1;33m=\u001b[0m \u001b[0mmode\u001b[0m\u001b[1;33m==\u001b[0m\u001b[1;34m'rgb_array'\u001b[0m\u001b[1;33m)\u001b[0m\u001b[1;33m\u001b[0m\u001b[0m\n\u001b[0m",
      "\u001b[0;32mC:\\anthony-ide\\Anaconda3\\lib\\site-packages\\gym\\envs\\classic_control\\rendering.py\u001b[0m in \u001b[0;36mrender\u001b[0;34m(self, return_rgb_array)\u001b[0m\n\u001b[1;32m    102\u001b[0m             \u001b[0marr\u001b[0m \u001b[1;33m=\u001b[0m \u001b[0marr\u001b[0m\u001b[1;33m.\u001b[0m\u001b[0mreshape\u001b[0m\u001b[1;33m(\u001b[0m\u001b[0mbuffer\u001b[0m\u001b[1;33m.\u001b[0m\u001b[0mheight\u001b[0m\u001b[1;33m,\u001b[0m \u001b[0mbuffer\u001b[0m\u001b[1;33m.\u001b[0m\u001b[0mwidth\u001b[0m\u001b[1;33m,\u001b[0m \u001b[1;36m4\u001b[0m\u001b[1;33m)\u001b[0m\u001b[1;33m\u001b[0m\u001b[0m\n\u001b[1;32m    103\u001b[0m             \u001b[0marr\u001b[0m \u001b[1;33m=\u001b[0m \u001b[0marr\u001b[0m\u001b[1;33m[\u001b[0m\u001b[1;33m:\u001b[0m\u001b[1;33m:\u001b[0m\u001b[1;33m-\u001b[0m\u001b[1;36m1\u001b[0m\u001b[1;33m,\u001b[0m\u001b[1;33m:\u001b[0m\u001b[1;33m,\u001b[0m\u001b[1;36m0\u001b[0m\u001b[1;33m:\u001b[0m\u001b[1;36m3\u001b[0m\u001b[1;33m]\u001b[0m\u001b[1;33m\u001b[0m\u001b[0m\n\u001b[0;32m--> 104\u001b[0;31m         \u001b[0mself\u001b[0m\u001b[1;33m.\u001b[0m\u001b[0mwindow\u001b[0m\u001b[1;33m.\u001b[0m\u001b[0mflip\u001b[0m\u001b[1;33m(\u001b[0m\u001b[1;33m)\u001b[0m\u001b[1;33m\u001b[0m\u001b[0m\n\u001b[0m\u001b[1;32m    105\u001b[0m         \u001b[0mself\u001b[0m\u001b[1;33m.\u001b[0m\u001b[0monetime_geoms\u001b[0m \u001b[1;33m=\u001b[0m \u001b[1;33m[\u001b[0m\u001b[1;33m]\u001b[0m\u001b[1;33m\u001b[0m\u001b[0m\n\u001b[1;32m    106\u001b[0m         \u001b[1;32mreturn\u001b[0m \u001b[0marr\u001b[0m\u001b[1;33m\u001b[0m\u001b[0m\n",
      "\u001b[0;32mC:\\anthony-ide\\Anaconda3\\lib\\site-packages\\pyglet\\window\\win32\\__init__.py\u001b[0m in \u001b[0;36mflip\u001b[0;34m(self)\u001b[0m\n\u001b[1;32m    309\u001b[0m     \u001b[1;32mdef\u001b[0m \u001b[0mflip\u001b[0m\u001b[1;33m(\u001b[0m\u001b[0mself\u001b[0m\u001b[1;33m)\u001b[0m\u001b[1;33m:\u001b[0m\u001b[1;33m\u001b[0m\u001b[0m\n\u001b[1;32m    310\u001b[0m         \u001b[0mself\u001b[0m\u001b[1;33m.\u001b[0m\u001b[0mdraw_mouse_cursor\u001b[0m\u001b[1;33m(\u001b[0m\u001b[1;33m)\u001b[0m\u001b[1;33m\u001b[0m\u001b[0m\n\u001b[0;32m--> 311\u001b[0;31m         \u001b[0mself\u001b[0m\u001b[1;33m.\u001b[0m\u001b[0mcontext\u001b[0m\u001b[1;33m.\u001b[0m\u001b[0mflip\u001b[0m\u001b[1;33m(\u001b[0m\u001b[1;33m)\u001b[0m\u001b[1;33m\u001b[0m\u001b[0m\n\u001b[0m\u001b[1;32m    312\u001b[0m \u001b[1;33m\u001b[0m\u001b[0m\n\u001b[1;32m    313\u001b[0m     \u001b[1;32mdef\u001b[0m \u001b[0mset_location\u001b[0m\u001b[1;33m(\u001b[0m\u001b[0mself\u001b[0m\u001b[1;33m,\u001b[0m \u001b[0mx\u001b[0m\u001b[1;33m,\u001b[0m \u001b[0my\u001b[0m\u001b[1;33m)\u001b[0m\u001b[1;33m:\u001b[0m\u001b[1;33m\u001b[0m\u001b[0m\n",
      "\u001b[0;31mAttributeError\u001b[0m: 'NoneType' object has no attribute 'flip'"
     ]
    }
   ],
   "source": [
    "# Now train with experiences\n",
    "saver = tf.train.Saver()\n",
    "rewards_list = []\n",
    "\n",
    "with tf.Session() as sess:\n",
    "    \n",
    "    # Initialize variables\n",
    "    sess.run(tf.global_variables_initializer())\n",
    "    \n",
    "    step = 0\n",
    "    for ep in range(1, train_episodes):\n",
    "        \n",
    "        total_reward = 0\n",
    "        t = 0\n",
    "        \n",
    "        while t < max_steps:\n",
    "            step += 1\n",
    "            # Uncomment this next line to watch the training\n",
    "            env.render() \n",
    "            \n",
    "            # Explore or Exploit\n",
    "            explore_p = explore_stop + (explore_start - explore_stop)*np.exp(-decay_rate*step) \n",
    "            if explore_p > np.random.rand():\n",
    "                # Make a random action\n",
    "                action = env.action_space.sample()\n",
    "            else:\n",
    "                # Get action from Q-network\n",
    "                feed = {mainQN.inputs_: state.reshape((1, *state.shape))}\n",
    "                Qs = sess.run(mainQN.output, feed_dict=feed)\n",
    "                action = np.argmax(Qs)\n",
    "            \n",
    "            # Take action, get new state and reward\n",
    "            next_state, reward, done, _ = env.step(action)\n",
    "    \n",
    "            total_reward += reward\n",
    "            \n",
    "            if done:\n",
    "                # the episode ends so no next state\n",
    "                next_state = np.zeros(state.shape)\n",
    "                t = max_steps\n",
    "                \n",
    "                print('Episode: {}'.format(ep),\n",
    "                      'Total reward: {}'.format(total_reward),\n",
    "                      'Training loss: {:.4f}'.format(loss),\n",
    "                      'Explore P: {:.4f}'.format(explore_p))\n",
    "                rewards_list.append((ep, total_reward))\n",
    "                \n",
    "                # Add experience to memory\n",
    "                memory.add((state, action, reward, next_state))\n",
    "                \n",
    "                # Start new episode\n",
    "                env.reset()\n",
    "                # Take one random step to get the pole and cart moving\n",
    "                state, reward, done, _ = env.step(env.action_space.sample())\n",
    "\n",
    "            else:\n",
    "                # Add experience to memory\n",
    "                memory.add((state, action, reward, next_state))\n",
    "                state = next_state\n",
    "                t += 1\n",
    "            \n",
    "            # Sample mini-batch from memory\n",
    "            batch = memory.sample(batch_size)\n",
    "            states = np.array([each[0] for each in batch])\n",
    "            actions = np.array([each[1] for each in batch])\n",
    "            rewards = np.array([each[2] for each in batch])\n",
    "            next_states = np.array([each[3] for each in batch])\n",
    "            \n",
    "            # Train network\n",
    "            target_Qs = sess.run(mainQN.output, feed_dict={mainQN.inputs_: next_states})\n",
    "            \n",
    "            # Set target_Qs to 0 for states where episode ends\n",
    "            episode_ends = (next_states == np.zeros(states[0].shape)).all(axis=1)\n",
    "            target_Qs[episode_ends] = (0, 0)\n",
    "            \n",
    "            targets = rewards + gamma * np.max(target_Qs, axis=1)\n",
    "\n",
    "            loss, _ = sess.run([mainQN.loss, mainQN.opt],\n",
    "                                feed_dict={mainQN.inputs_: states,\n",
    "                                           mainQN.targetQs_: targets,\n",
    "                                           mainQN.actions_: actions})\n",
    "        \n",
    "    saver.save(sess, \"checkpoints/cartpole.ckpt\")\n"
   ]
  },
  {
   "cell_type": "markdown",
   "metadata": {},
   "source": [
    "## Visualizing training\n",
    "\n",
    "Below I'll plot the total rewards for each episode. I'm plotting the rolling average too, in blue."
   ]
  },
  {
   "cell_type": "code",
   "execution_count": 14,
   "metadata": {
    "collapsed": true
   },
   "outputs": [],
   "source": [
    "%matplotlib inline\n",
    "import matplotlib.pyplot as plt\n",
    "\n",
    "def running_mean(x, N):\n",
    "    cumsum = np.cumsum(np.insert(x, 0, 0)) \n",
    "    return (cumsum[N:] - cumsum[:-N]) / N "
   ]
  },
  {
   "cell_type": "code",
   "execution_count": 15,
   "metadata": {
    "collapsed": false
   },
   "outputs": [
    {
     "data": {
      "text/plain": [
       "<matplotlib.text.Text at 0x261501fa320>"
      ]
     },
     "execution_count": 15,
     "metadata": {},
     "output_type": "execute_result"
    },
    {
     "data": {
      "image/png": "[encoded data removed]",
      "text/plain": [
       "<matplotlib.figure.Figure at 0x25f892e31d0>"
      ]
     },
     "metadata": {},
     "output_type": "display_data"
    }
   ],
   "source": [
    "eps, rews = np.array(rewards_list).T\n",
    "smoothed_rews = running_mean(rews, 10)\n",
    "plt.plot(eps[-len(smoothed_rews):], smoothed_rews)\n",
    "plt.plot(eps, rews, color='grey', alpha=0.3)\n",
    "plt.xlabel('Episode')\n",
    "plt.ylabel('Total Reward')"
   ]
  },
  {
   "cell_type": "code",
   "execution_count": 181,
   "metadata": {
    "collapsed": false
   },
   "outputs": [
    {
     "data": {
      "text/plain": [
       "<matplotlib.text.Text at 0x125c136d8>"
      ]
     },
     "execution_count": 181,
     "metadata": {},
     "output_type": "execute_result"
    },
    {
     "data": {
      "image/png": "[encoded data removed]",
      "text/plain": [
       "<matplotlib.figure.Figure at 0x120004dd8>"
      ]
     },
     "metadata": {},
     "output_type": "display_data"
    }
   ],
   "source": [
    "eps, rews = np.array(rewards_list).T\n",
    "smoothed_rews = running_mean(rews, 10)\n",
    "plt.plot(eps[-len(smoothed_rews):], smoothed_rews)\n",
    "plt.plot(eps, rews, color='grey', alpha=0.3)\n",
    "plt.xlabel('Episode')\n",
    "plt.ylabel('Total Reward')"
   ]
  },
  {
   "cell_type": "markdown",
   "metadata": {},
   "source": [
    "## Testing\n",
    "\n",
    "Let's checkout how our trained agent plays the game."
   ]
  },
  {
   "cell_type": "code",
   "execution_count": 16,
   "metadata": {
    "collapsed": false
   },
   "outputs": [
    {
     "name": "stdout",
     "output_type": "stream",
     "text": [
      "INFO:tensorflow:Restoring parameters from checkpoints\\cartpole.ckpt\n"
     ]
    },
    {
     "name": "stderr",
     "output_type": "stream",
     "text": [
      "[2017-06-19 14:57:03,184] Restoring parameters from checkpoints\\cartpole.ckpt\n"
     ]
    }
   ],
   "source": [
    "test_episodes = 10\n",
    "test_max_steps = 400\n",
    "env.reset()\n",
    "with tf.Session() as sess:\n",
    "    saver.restore(sess, tf.train.latest_checkpoint('checkpoints'))\n",
    "    \n",
    "    for ep in range(1, test_episodes):\n",
    "        t = 0\n",
    "        while t < test_max_steps:\n",
    "            env.render() \n",
    "            \n",
    "            # Get action from Q-network\n",
    "            feed = {mainQN.inputs_: state.reshape((1, *state.shape))}\n",
    "            Qs = sess.run(mainQN.output, feed_dict=feed)\n",
    "            action = np.argmax(Qs)\n",
    "            \n",
    "            # Take action, get new state and reward\n",
    "            next_state, reward, done, _ = env.step(action)\n",
    "            \n",
    "            if done:\n",
    "                t = test_max_steps\n",
    "                env.reset()\n",
    "                # Take one random step to get the pole and cart moving\n",
    "                state, reward, done, _ = env.step(env.action_space.sample())\n",
    "\n",
    "            else:\n",
    "                state = next_state\n",
    "                t += 1"
   ]
  },
  {
   "cell_type": "code",
   "execution_count": 18,
   "metadata": {
    "collapsed": true
   },
   "outputs": [],
   "source": [
    "env.close()"
   ]
  },
  {
   "cell_type": "markdown",
   "metadata": {},
   "source": [
    "## Extending this\n",
    "\n",
    "So, Cart-Pole is a pretty simple game. However, the same model can be used to train an agent to play something much more complicated like Pong or Space Invaders. Instead of a state like we're using here though, you'd want to use convolutional layers to get the state from the screen images.\n",
    "\n",
    "![Deep Q-Learning Atari](assets/atari-network.png)\n",
    "\n",
    "I'll leave it as a challenge for you to use deep Q-learning to train an agent to play Atari games. Here's the original paper which will get you started: http://www.davidqiu.com:8888/research/nature14236.pdf."
   ]
  }
 ],
 "metadata": {
  "kernelspec": {
   "display_name": "Python [default]",
   "language": "python",
   "name": "python3"
  },
  "language_info": {
   "codemirror_mode": {
    "name": "ipython",
    "version": 3
   },
   "file_extension": ".py",
   "mimetype": "text/x-python",
   "name": "python",
   "nbconvert_exporter": "python",
   "pygments_lexer": "ipython3",
   "version": "3.5.2"
  }
 },
 "nbformat": 4,
 "nbformat_minor": 2
}
